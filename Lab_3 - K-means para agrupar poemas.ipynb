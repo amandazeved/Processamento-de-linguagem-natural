{
  "cells": [
    {
      "cell_type": "markdown",
      "metadata": {
        "id": "x8hE5fU-B3rf"
      },
      "source": [
        "# Aplicação do Algoritmo K-Means para Agrupar Poemas em português - Lab 3\n",
        "\n",
        "Objetivo: Usar o Algoritmo K-Means para agrupar poemas.\n",
        "\n",
        "O K-means é um algoritmo de aprendizado não supervisionado utilizado para agrupar dados em conjuntos, com base em características similares. O objetivo principal do K-means é dividir um conjunto de dados em \"k\" grupos, para identificar o melhor valor de “k” vou usar o Método do Cotovelo. Cada grupo é representado por um centroide, que é a média dos pontos pertencentes a esse grupo.  \n"
      ]
    },
    {
      "cell_type": "code",
      "execution_count": null,
      "metadata": {
        "colab": {
          "base_uri": "https://localhost:8080/"
        },
        "id": "Oe19-pfyC9ob",
        "outputId": "635e57f7-376f-4aee-a93f-2863484db866"
      },
      "outputs": [
        {
          "name": "stderr",
          "output_type": "stream",
          "text": [
            "[nltk_data] Downloading package stopwords to /root/nltk_data...\n",
            "[nltk_data]   Package stopwords is already up-to-date!\n",
            "[nltk_data] Downloading package punkt to /root/nltk_data...\n",
            "[nltk_data]   Package punkt is already up-to-date!\n"
          ]
        },
        {
          "data": {
            "text/plain": [
              "True"
            ]
          },
          "execution_count": 41,
          "metadata": {},
          "output_type": "execute_result"
        }
      ],
      "source": [
        "import pandas as pd\n",
        "import numpy  as np\n",
        "\n",
        "import matplotlib.pyplot as plt\n",
        "import seaborn           as sns\n",
        "\n",
        "import nltk\n",
        "import re\n",
        "from nltk.stem import SnowballStemmer\n",
        "from nltk.corpus import stopwords\n",
        "from nltk.tokenize import  word_tokenize\n",
        "from sklearn.feature_extraction.text import TfidfVectorizer\n",
        "from sklearn.cluster import KMeans\n",
        "import altair as alt\n",
        "\n",
        "nltk.download('stopwords')\n",
        "nltk.download('punkt')"
      ]
    },
    {
      "cell_type": "markdown",
      "metadata": {
        "id": "wn-eaXMWeniy"
      },
      "source": [
        "Lendo dados:"
      ]
    },
    {
      "cell_type": "code",
      "execution_count": null,
      "metadata": {
        "colab": {
          "base_uri": "https://localhost:8080/",
          "height": 206
        },
        "id": "P8UHYxf8DKov",
        "outputId": "bf59cb1a-a1ab-4494-c125-6180e27e3599"
      },
      "outputs": [
        {
          "data": {
            "text/html": [
              "\n",
              "  <div id=\"df-41f1e433-642e-4a19-a674-c3e3823357ed\" class=\"colab-df-container\">\n",
              "    <div>\n",
              "<style scoped>\n",
              "    .dataframe tbody tr th:only-of-type {\n",
              "        vertical-align: middle;\n",
              "    }\n",
              "\n",
              "    .dataframe tbody tr th {\n",
              "        vertical-align: top;\n",
              "    }\n",
              "\n",
              "    .dataframe thead th {\n",
              "        text-align: right;\n",
              "    }\n",
              "</style>\n",
              "<table border=\"1\" class=\"dataframe\">\n",
              "  <thead>\n",
              "    <tr style=\"text-align: right;\">\n",
              "      <th></th>\n",
              "      <th>Author</th>\n",
              "      <th>Content</th>\n",
              "    </tr>\n",
              "  </thead>\n",
              "  <tbody>\n",
              "    <tr>\n",
              "      <th>0</th>\n",
              "      <td>Cecília Meireles</td>\n",
              "      <td>Retrato\\nEu não tinha este rosto de hoje,\\nAss...</td>\n",
              "    </tr>\n",
              "    <tr>\n",
              "      <th>1</th>\n",
              "      <td>Fernando Pessoa</td>\n",
              "      <td>Para ser grande, sê inteiro: nada\\nPara ser gr...</td>\n",
              "    </tr>\n",
              "    <tr>\n",
              "      <th>2</th>\n",
              "      <td>Marina Colasanti</td>\n",
              "      <td>Eu sei, mas não devia\\nEu sei que a gente se a...</td>\n",
              "    </tr>\n",
              "    <tr>\n",
              "      <th>3</th>\n",
              "      <td>Carlos Drummond de Andrade</td>\n",
              "      <td>Quadrilha\\nJoão amava Teresa que amava Raimund...</td>\n",
              "    </tr>\n",
              "    <tr>\n",
              "      <th>4</th>\n",
              "      <td>Eugénio de Andrade</td>\n",
              "      <td>É urgente o amor\\nÉ urgente o amor.\\nÉ urgente...</td>\n",
              "    </tr>\n",
              "  </tbody>\n",
              "</table>\n",
              "</div>\n",
              "    <div class=\"colab-df-buttons\">\n",
              "\n",
              "  <div class=\"colab-df-container\">\n",
              "    <button class=\"colab-df-convert\" onclick=\"convertToInteractive('df-41f1e433-642e-4a19-a674-c3e3823357ed')\"\n",
              "            title=\"Convert this dataframe to an interactive table.\"\n",
              "            style=\"display:none;\">\n",
              "\n",
              "  <svg xmlns=\"http://www.w3.org/2000/svg\" height=\"24px\" viewBox=\"0 -960 960 960\">\n",
              "    <path d=\"M120-120v-720h720v720H120Zm60-500h600v-160H180v160Zm220 220h160v-160H400v160Zm0 220h160v-160H400v160ZM180-400h160v-160H180v160Zm440 0h160v-160H620v160ZM180-180h160v-160H180v160Zm440 0h160v-160H620v160Z\"/>\n",
              "  </svg>\n",
              "    </button>\n",
              "\n",
              "  <style>\n",
              "    .colab-df-container {\n",
              "      display:flex;\n",
              "      gap: 12px;\n",
              "    }\n",
              "\n",
              "    .colab-df-convert {\n",
              "      background-color: #E8F0FE;\n",
              "      border: none;\n",
              "      border-radius: 50%;\n",
              "      cursor: pointer;\n",
              "      display: none;\n",
              "      fill: #1967D2;\n",
              "      height: 32px;\n",
              "      padding: 0 0 0 0;\n",
              "      width: 32px;\n",
              "    }\n",
              "\n",
              "    .colab-df-convert:hover {\n",
              "      background-color: #E2EBFA;\n",
              "      box-shadow: 0px 1px 2px rgba(60, 64, 67, 0.3), 0px 1px 3px 1px rgba(60, 64, 67, 0.15);\n",
              "      fill: #174EA6;\n",
              "    }\n",
              "\n",
              "    .colab-df-buttons div {\n",
              "      margin-bottom: 4px;\n",
              "    }\n",
              "\n",
              "    [theme=dark] .colab-df-convert {\n",
              "      background-color: #3B4455;\n",
              "      fill: #D2E3FC;\n",
              "    }\n",
              "\n",
              "    [theme=dark] .colab-df-convert:hover {\n",
              "      background-color: #434B5C;\n",
              "      box-shadow: 0px 1px 3px 1px rgba(0, 0, 0, 0.15);\n",
              "      filter: drop-shadow(0px 1px 2px rgba(0, 0, 0, 0.3));\n",
              "      fill: #FFFFFF;\n",
              "    }\n",
              "  </style>\n",
              "\n",
              "    <script>\n",
              "      const buttonEl =\n",
              "        document.querySelector('#df-41f1e433-642e-4a19-a674-c3e3823357ed button.colab-df-convert');\n",
              "      buttonEl.style.display =\n",
              "        google.colab.kernel.accessAllowed ? 'block' : 'none';\n",
              "\n",
              "      async function convertToInteractive(key) {\n",
              "        const element = document.querySelector('#df-41f1e433-642e-4a19-a674-c3e3823357ed');\n",
              "        const dataTable =\n",
              "          await google.colab.kernel.invokeFunction('convertToInteractive',\n",
              "                                                    [key], {});\n",
              "        if (!dataTable) return;\n",
              "\n",
              "        const docLinkHtml = 'Like what you see? Visit the ' +\n",
              "          '<a target=\"_blank\" href=https://colab.research.google.com/notebooks/data_table.ipynb>data table notebook</a>'\n",
              "          + ' to learn more about interactive tables.';\n",
              "        element.innerHTML = '';\n",
              "        dataTable['output_type'] = 'display_data';\n",
              "        await google.colab.output.renderOutput(dataTable, element);\n",
              "        const docLink = document.createElement('div');\n",
              "        docLink.innerHTML = docLinkHtml;\n",
              "        element.appendChild(docLink);\n",
              "      }\n",
              "    </script>\n",
              "  </div>\n",
              "\n",
              "\n",
              "<div id=\"df-8bd4dce4-a8ad-4d2b-9050-3a9f80ede947\">\n",
              "  <button class=\"colab-df-quickchart\" onclick=\"quickchart('df-8bd4dce4-a8ad-4d2b-9050-3a9f80ede947')\"\n",
              "            title=\"Suggest charts.\"\n",
              "            style=\"display:none;\">\n",
              "\n",
              "<svg xmlns=\"http://www.w3.org/2000/svg\" height=\"24px\"viewBox=\"0 0 24 24\"\n",
              "     width=\"24px\">\n",
              "    <g>\n",
              "        <path d=\"M19 3H5c-1.1 0-2 .9-2 2v14c0 1.1.9 2 2 2h14c1.1 0 2-.9 2-2V5c0-1.1-.9-2-2-2zM9 17H7v-7h2v7zm4 0h-2V7h2v10zm4 0h-2v-4h2v4z\"/>\n",
              "    </g>\n",
              "</svg>\n",
              "  </button>\n",
              "\n",
              "<style>\n",
              "  .colab-df-quickchart {\n",
              "    background-color: #E8F0FE;\n",
              "    border: none;\n",
              "    border-radius: 50%;\n",
              "    cursor: pointer;\n",
              "    display: none;\n",
              "    fill: #1967D2;\n",
              "    height: 32px;\n",
              "    padding: 0 0 0 0;\n",
              "    width: 32px;\n",
              "  }\n",
              "\n",
              "  .colab-df-quickchart:hover {\n",
              "    background-color: #E2EBFA;\n",
              "    box-shadow: 0px 1px 2px rgba(60, 64, 67, 0.3), 0px 1px 3px 1px rgba(60, 64, 67, 0.15);\n",
              "    fill: #174EA6;\n",
              "  }\n",
              "\n",
              "  [theme=dark] .colab-df-quickchart {\n",
              "    background-color: #3B4455;\n",
              "    fill: #D2E3FC;\n",
              "  }\n",
              "\n",
              "  [theme=dark] .colab-df-quickchart:hover {\n",
              "    background-color: #434B5C;\n",
              "    box-shadow: 0px 1px 3px 1px rgba(0, 0, 0, 0.15);\n",
              "    filter: drop-shadow(0px 1px 2px rgba(0, 0, 0, 0.3));\n",
              "    fill: #FFFFFF;\n",
              "  }\n",
              "</style>\n",
              "\n",
              "  <script>\n",
              "    async function quickchart(key) {\n",
              "      const charts = await google.colab.kernel.invokeFunction(\n",
              "          'suggestCharts', [key], {});\n",
              "    }\n",
              "    (() => {\n",
              "      let quickchartButtonEl =\n",
              "        document.querySelector('#df-8bd4dce4-a8ad-4d2b-9050-3a9f80ede947 button');\n",
              "      quickchartButtonEl.style.display =\n",
              "        google.colab.kernel.accessAllowed ? 'block' : 'none';\n",
              "    })();\n",
              "  </script>\n",
              "</div>\n",
              "    </div>\n",
              "  </div>\n"
            ],
            "text/plain": [
              "                       Author  \\\n",
              "0            Cecília Meireles   \n",
              "1             Fernando Pessoa   \n",
              "2            Marina Colasanti   \n",
              "3  Carlos Drummond de Andrade   \n",
              "4          Eugénio de Andrade   \n",
              "\n",
              "                                             Content  \n",
              "0  Retrato\\nEu não tinha este rosto de hoje,\\nAss...  \n",
              "1  Para ser grande, sê inteiro: nada\\nPara ser gr...  \n",
              "2  Eu sei, mas não devia\\nEu sei que a gente se a...  \n",
              "3  Quadrilha\\nJoão amava Teresa que amava Raimund...  \n",
              "4  É urgente o amor\\nÉ urgente o amor.\\nÉ urgente...  "
            ]
          },
          "execution_count": 3,
          "metadata": {},
          "output_type": "execute_result"
        }
      ],
      "source": [
        "df= pd.read_csv('https://gist.githubusercontent.com/issilva5/b4a1c6dc5989ad83663ae02929f2894c/raw/17d27552de56f3b38c5c2823b26e8bd77318cbc0/poemas.csv')\n",
        "df.head(5)"
      ]
    },
    {
      "cell_type": "code",
      "execution_count": null,
      "metadata": {
        "colab": {
          "base_uri": "https://localhost:8080/"
        },
        "id": "pl8LKOyBDdnU",
        "outputId": "b833fb54-c27c-452b-a92b-8e361a09def1"
      },
      "outputs": [
        {
          "data": {
            "text/plain": [
              "(8983, 2)"
            ]
          },
          "execution_count": 3,
          "metadata": {},
          "output_type": "execute_result"
        }
      ],
      "source": [
        "df.shape"
      ]
    },
    {
      "cell_type": "markdown",
      "metadata": {
        "id": "Z1rBY-fHCKEo"
      },
      "source": [
        "## Passo 1: Pré-processamento dos Dados Textuais"
      ]
    },
    {
      "cell_type": "code",
      "execution_count": null,
      "metadata": {
        "id": "7ccrk7dbTify"
      },
      "outputs": [],
      "source": [
        "def removeWords(listOfTokens, listOfWords):\n",
        "    return [token for token in listOfTokens if token not in listOfWords]\n",
        "\n",
        "def getAuthorList(data):\n",
        "     authors = df['Author'].to_list()\n",
        "     authors = [author.lower().split(' ') for author in authors]\n",
        "     authors = sum(authors, [])\n",
        "     authors = list(set(authors))\n",
        "     return authors\n",
        "\n",
        "\n",
        "def preprocess(docs):\n",
        "  clean_poems = []\n",
        "  authorsList = getAuthorList(docs)\n",
        "  stop_words = set(stopwords.words(\"portuguese\"))\n",
        "  ss = SnowballStemmer(\"portuguese\")\n",
        "  other_word = ['paulo', 'publicado', 'editorial', 'pág', 'vol','págs', 'obra']\n",
        "\n",
        "  for idx in range(len(docs)):\n",
        "    poem = docs['Content'][idx]\n",
        "\n",
        "    # Remover caracteres especiais e dígitos\n",
        "    poem = re.sub(\"(\\\\d|\\\\W)+|\\w*\\d\\w*\",\" \", poem)\n",
        "    poem = re.sub(r'http\\S+', '', poem)\n",
        "    poem = re.sub(r'www\\S+', '', poem)\n",
        "    poem = poem.lower()\n",
        "\n",
        "    # Tokenizar\n",
        "    poem = word_tokenize(poem)\n",
        "    # Remover stopwords e nomes de autores\n",
        "    poem = removeWords(poem, stop_words)\n",
        "    poem = removeWords(poem, authorsList)\n",
        "    poem = removeWords(poem, other_word)\n",
        "    # Aplicar stemming\n",
        "    poem = [ss.stem(word) for word in poem]\n",
        "    poem = removeWords(poem, stop_words)\n",
        "    # Remover palavras pequenas, depois juntar\n",
        "    poem = ' '.join(s for s in poem if len(s) > 2)\n",
        "    clean_poems.append(poem)\n",
        "\n",
        "  return clean_poems"
      ]
    },
    {
      "cell_type": "code",
      "execution_count": null,
      "metadata": {
        "id": "hAnCAFqiVaIj"
      },
      "outputs": [],
      "source": [
        "poems = preprocess(df)"
      ]
    },
    {
      "cell_type": "code",
      "execution_count": null,
      "metadata": {
        "colab": {
          "base_uri": "https://localhost:8080/"
        },
        "id": "YD4y0HPWWHs1",
        "outputId": "e5375a25-be96-42ef-e3fb-7291f76b4d7f"
      },
      "outputs": [
        {
          "data": {
            "text/plain": [
              "['retrat rost hoj assim calm assim trist assim magr olhos vazi lábi amarg forc par fri mort coraçã mostr dei mudanc simpl cert fácil espelh fic perd fac',\n",
              " 'grand inteir nad grand inteir nad exag exclu tod cad cois quant mínim faz assim cad lag lua tod brilh porqu alta viv',\n",
              " 'sei dev sei gent acostum dev gent acostum mor apart fund ter outr vist janel redor porqu vist log acostum olhar porqu olha log acostum abrir tod cortin porqu abre cortin log acostum acend ced luz med acostum esquec sol esquec esquec amplidã gent acostum acord manhã sobressalt porqu hor tom caf corr porqu atras ler jornal ônibus porqu pod perd temp viag sanduích porqu pra almoc sair trabalh porqu noit cochil ônibus porqu cans deit ced dorm pes ter viv dia gent acostum abrir jornal ler sobr aceit aceit mort númer mort aceit númer aceit acredit negoc aceit ler tod dia númer long duraçã gent acostum esper dia inteir ouv telefon hoj poss sorr pesso receb sorris volt ignor precis tant vist gent acostum pag tud desej necessit lut ganh dinheir pag ganh men precis faz fil pag pag cois val sab cad vez pag procur trabalh ganh dinheir ter pag fil cobr gent acostum andar rua ver cartaz abrir revist ver anúnci lig televisã ver comerc cinem engol public instig conduz desnort lanc infind catarat produt gent acostum poluiçã sal fech condicion cheir cigarr luz artificial ligeir tremor choqu olhos lev luz natural bactér águ potável contamin águ mar lent mort rios acostum ouv passarinh ter gal madrug hidrofob colh frut ter sequ plant gent acostum cois dem sofr pequen tent perceb vai afast dor aqu ressent ali revolt acol cinem chei gent sent primeir fil torc pouc pescoc pra contamin gent molh pés rest corp trabalh dur gent consol pens fim seman fim seman faz gent vai dorm ced aind fic satisfeit porqu sempr son atras gent acostum ral asper preserv pel acostum evit fer sangrament esquiv fac baionet poup peit gent acostum poup vid pouc gast gast tant acostum perd mesm']"
            ]
          },
          "execution_count": 90,
          "metadata": {},
          "output_type": "execute_result"
        }
      ],
      "source": [
        "poems[:3]"
      ]
    },
    {
      "cell_type": "markdown",
      "metadata": {
        "id": "AIzd057OetLc"
      },
      "source": [
        "Aplicando TF-IDF:"
      ]
    },
    {
      "cell_type": "code",
      "execution_count": null,
      "metadata": {
        "id": "TZKjArvuPwjs"
      },
      "outputs": [],
      "source": [
        "def buildTFIDFVectorizer(docs):\n",
        "  vect = TfidfVectorizer(\n",
        "          min_df = 5,\n",
        "          max_df = 0.8,\n",
        "          max_features = None,\n",
        "        )\n",
        "  matrix = vect.fit_transform(docs)\n",
        "  return matrix, vect"
      ]
    },
    {
      "cell_type": "code",
      "execution_count": null,
      "metadata": {
        "colab": {
          "base_uri": "https://localhost:8080/"
        },
        "id": "rNq1XxfLRVQ_",
        "outputId": "de740b54-1b08-4981-807c-8e693175d8a2"
      },
      "outputs": [
        {
          "data": {
            "text/plain": [
              "array(['abad', 'abaf', 'abaix', 'abajur', 'abal', 'aban', 'abandon',\n",
              "       'abarc', 'abarrot', 'abat'], dtype=object)"
            ]
          },
          "execution_count": 92,
          "metadata": {},
          "output_type": "execute_result"
        }
      ],
      "source": [
        "matrix, vect = buildTFIDFVectorizer(poems)\n",
        "words = vect.get_feature_names_out()\n",
        "words[:10]"
      ]
    },
    {
      "cell_type": "code",
      "execution_count": null,
      "metadata": {
        "colab": {
          "base_uri": "https://localhost:8080/"
        },
        "id": "FsTRR4fzeGGu",
        "outputId": "038d083c-dd76-4abd-eac3-12b82492eb4d"
      },
      "outputs": [
        {
          "data": {
            "text/plain": [
              "8737"
            ]
          },
          "execution_count": 93,
          "metadata": {},
          "output_type": "execute_result"
        }
      ],
      "source": [
        "len(words)"
      ]
    },
    {
      "cell_type": "code",
      "execution_count": null,
      "metadata": {
        "id": "MrRbvOlkfbb1"
      },
      "outputs": [],
      "source": [
        "final_df = pd.DataFrame(data = matrix.toarray(), columns=vect.get_feature_names_out())"
      ]
    },
    {
      "cell_type": "code",
      "execution_count": null,
      "metadata": {},
      "outputs": [],
      "source": []
    },
    {
      "cell_type": "markdown",
      "metadata": {
        "id": "kx5wraQJCffF"
      },
      "source": [
        "## Passo 2: Execução do Algoritmo K-Means com Diferentes Valores de K"
      ]
    },
    {
      "cell_type": "code",
      "execution_count": null,
      "metadata": {
        "id": "2ZoJxI7nKZvo"
      },
      "outputs": [],
      "source": [
        "def run_KMeans(max_k, data):\n",
        "    max_k += 1\n",
        "    kmeans_results = dict()\n",
        "    for k in range(2 , max_k):\n",
        "        kmeans = KMeans(n_clusters = k\n",
        "                        , init = 'k-means++'\n",
        "                        , n_init = 1\n",
        "                        , tol = 0.0001\n",
        "                        , random_state = 1\n",
        "                        , algorithm = 'full')\n",
        "\n",
        "        kmeans_results.update( {k : kmeans.fit(data)} )\n",
        "\n",
        "    return kmeans_results"
      ]
    },
    {
      "cell_type": "code",
      "execution_count": null,
      "metadata": {
        "colab": {
          "base_uri": "https://localhost:8080/"
        },
        "id": "fJgbGPmYKeaY",
        "outputId": "51a1502c-0cdb-49ca-c7dc-67ee864ca4d6"
      },
      "outputs": [
        {
          "name": "stderr",
          "output_type": "stream",
          "text": [
            "/usr/local/lib/python3.10/dist-packages/sklearn/cluster/_kmeans.py:1366: FutureWarning: algorithm='full' is deprecated, it will be removed in 1.3. Using 'lloyd' instead.\n",
            "  warnings.warn(\n",
            "/usr/local/lib/python3.10/dist-packages/sklearn/cluster/_kmeans.py:1366: FutureWarning: algorithm='full' is deprecated, it will be removed in 1.3. Using 'lloyd' instead.\n",
            "  warnings.warn(\n",
            "/usr/local/lib/python3.10/dist-packages/sklearn/cluster/_kmeans.py:1366: FutureWarning: algorithm='full' is deprecated, it will be removed in 1.3. Using 'lloyd' instead.\n",
            "  warnings.warn(\n",
            "/usr/local/lib/python3.10/dist-packages/sklearn/cluster/_kmeans.py:1366: FutureWarning: algorithm='full' is deprecated, it will be removed in 1.3. Using 'lloyd' instead.\n",
            "  warnings.warn(\n",
            "/usr/local/lib/python3.10/dist-packages/sklearn/cluster/_kmeans.py:1366: FutureWarning: algorithm='full' is deprecated, it will be removed in 1.3. Using 'lloyd' instead.\n",
            "  warnings.warn(\n",
            "/usr/local/lib/python3.10/dist-packages/sklearn/cluster/_kmeans.py:1366: FutureWarning: algorithm='full' is deprecated, it will be removed in 1.3. Using 'lloyd' instead.\n",
            "  warnings.warn(\n",
            "/usr/local/lib/python3.10/dist-packages/sklearn/cluster/_kmeans.py:1366: FutureWarning: algorithm='full' is deprecated, it will be removed in 1.3. Using 'lloyd' instead.\n",
            "  warnings.warn(\n",
            "/usr/local/lib/python3.10/dist-packages/sklearn/cluster/_kmeans.py:1366: FutureWarning: algorithm='full' is deprecated, it will be removed in 1.3. Using 'lloyd' instead.\n",
            "  warnings.warn(\n"
          ]
        },
        {
          "data": {
            "text/plain": [
              "{2: KMeans(algorithm='full', n_clusters=2, n_init=1, random_state=1),\n",
              " 3: KMeans(algorithm='full', n_clusters=3, n_init=1, random_state=1),\n",
              " 4: KMeans(algorithm='full', n_clusters=4, n_init=1, random_state=1),\n",
              " 5: KMeans(algorithm='full', n_clusters=5, n_init=1, random_state=1),\n",
              " 6: KMeans(algorithm='full', n_clusters=6, n_init=1, random_state=1),\n",
              " 7: KMeans(algorithm='full', n_clusters=7, n_init=1, random_state=1),\n",
              " 8: KMeans(algorithm='full', n_init=1, random_state=1),\n",
              " 9: KMeans(algorithm='full', n_clusters=9, n_init=1, random_state=1)}"
            ]
          },
          "execution_count": 171,
          "metadata": {},
          "output_type": "execute_result"
        }
      ],
      "source": [
        "k = 9\n",
        "kmeans_results = run_KMeans(k, final_df)\n",
        "kmeans_results"
      ]
    },
    {
      "cell_type": "markdown",
      "metadata": {
        "id": "Wx-6SILrCjCv"
      },
      "source": [
        "## Passo 3: Identificação do Melhor Valor de K\n",
        "\n"
      ]
    },
    {
      "cell_type": "markdown",
      "metadata": {
        "id": "x58uedhr5uAt"
      },
      "source": [
        "Calculando o Método do Cotovelo usando a soma do quadrado das distâncias das amostras a seus respectivos centros:\n",
        "\n",
        "O **Método do Cotovelo** é um método gráfico que envolve a execução do K-means para diferentes valores de k e plotar a variação da inércia (soma das distâncias ao quadrado entre cada ponto de dados e o centroide do seu cluster) em relação a k. O ponto em que a curva começa a se achatar, formando um \"cotovelo\", é escolhido como o melhor valor de k."
      ]
    },
    {
      "cell_type": "code",
      "execution_count": null,
      "metadata": {
        "id": "56CKAd5GbJlE"
      },
      "outputs": [],
      "source": [
        "inertia_values = []\n",
        "n = range(2,k)\n",
        "for i in n:\n",
        "  inertia_values.append(kmeans_results[i].inertia_)\n",
        "\n",
        "# Escolhendo o ponto em que a curva começa a nivelar\n",
        "best_point = 2\n",
        "smallest_distance = float('inf')\n",
        "\n",
        "for i in range(1, len(inertia_values)):\n",
        "    distance = inertia_values[i-1] - inertia_values[i]\n",
        "\n",
        "    if distance < smallest_distance and inertia_values[i-1] > inertia_values[i]:\n",
        "        smallest_distance = distance\n",
        "        best_point = i-1 + 2"
      ]
    },
    {
      "cell_type": "code",
      "execution_count": null,
      "metadata": {
        "colab": {
          "base_uri": "https://localhost:8080/",
          "height": 472
        },
        "id": "6m_RHb9Mbnfq",
        "outputId": "f37c0b76-d5b0-47de-a225-b2d1d0f48d7e"
      },
      "outputs": [
        {
          "data": {
            "image/png": "[encoded data removed]",
            "text/plain": [
              "<Figure size 640x480 with 1 Axes>"
            ]
          },
          "metadata": {},
          "output_type": "display_data"
        }
      ],
      "source": [
        "plt.plot(n, inertia_values, 'bx-')\n",
        "plt.xlabel(\"Número de clusters\")\n",
        "plt.ylabel(\"Soma dos quadrados\")\n",
        "plt.title('Método do cotovelo para encontrar o k ótimo')\n",
        "\n",
        "# Adicione uma linha vertical para indicar o ponto do cotovelo\n",
        "plt.axvline(x=best_point, color='r', linestyle='--', label=f'Cotovelo em k={best_point}')\n",
        "\n",
        "plt.legend()\n",
        "plt.grid()\n",
        "plt.show()"
      ]
    },
    {
      "cell_type": "markdown",
      "metadata": {
        "id": "SxyyaI6cPcbB"
      },
      "source": [
        "Analisando cada ponto em busca do ponto de menor discrepância no eixo y, indicativo de uma nivelamento na curva, obtive como resultado k = 6."
      ]
    },
    {
      "cell_type": "markdown",
      "metadata": {
        "id": "GOLOr_EuCmBl"
      },
      "source": [
        "## Passo 4: Análise dos Clusters"
      ]
    },
    {
      "cell_type": "code",
      "execution_count": null,
      "metadata": {
        "id": "Hk45y2cjSe7s"
      },
      "outputs": [],
      "source": [
        "best_result = best_point\n",
        "kmeans = kmeans_results.get(best_result)\n",
        "\n",
        "final_df_array = final_df.to_numpy()\n",
        "prediction = kmeans.predict(final_df)"
      ]
    },
    {
      "cell_type": "code",
      "execution_count": null,
      "metadata": {
        "colab": {
          "base_uri": "https://localhost:8080/",
          "height": 363
        },
        "id": "2Zf_jTJwmjTp",
        "outputId": "bd0baf9e-a392-4882-b447-35bdb698a147"
      },
      "outputs": [
        {
          "data": {
            "text/html": [
              "\n",
              "  <div id=\"df-a6bc4dd6-2dda-42eb-8e0e-1adbf0fb8fba\" class=\"colab-df-container\">\n",
              "    <div>\n",
              "<style scoped>\n",
              "    .dataframe tbody tr th:only-of-type {\n",
              "        vertical-align: middle;\n",
              "    }\n",
              "\n",
              "    .dataframe tbody tr th {\n",
              "        vertical-align: top;\n",
              "    }\n",
              "\n",
              "    .dataframe thead th {\n",
              "        text-align: right;\n",
              "    }\n",
              "</style>\n",
              "<table border=\"1\" class=\"dataframe\">\n",
              "  <thead>\n",
              "    <tr style=\"text-align: right;\">\n",
              "      <th></th>\n",
              "      <th>Author</th>\n",
              "      <th>Content</th>\n",
              "      <th>grupo</th>\n",
              "    </tr>\n",
              "  </thead>\n",
              "  <tbody>\n",
              "    <tr>\n",
              "      <th>0</th>\n",
              "      <td>Cecília Meireles</td>\n",
              "      <td>Retrato\\nEu não tinha este rosto de hoje,\\nAss...</td>\n",
              "      <td>3</td>\n",
              "    </tr>\n",
              "    <tr>\n",
              "      <th>1</th>\n",
              "      <td>Fernando Pessoa</td>\n",
              "      <td>Para ser grande, sê inteiro: nada\\nPara ser gr...</td>\n",
              "      <td>1</td>\n",
              "    </tr>\n",
              "    <tr>\n",
              "      <th>2</th>\n",
              "      <td>Marina Colasanti</td>\n",
              "      <td>Eu sei, mas não devia\\nEu sei que a gente se a...</td>\n",
              "      <td>1</td>\n",
              "    </tr>\n",
              "    <tr>\n",
              "      <th>3</th>\n",
              "      <td>Carlos Drummond de Andrade</td>\n",
              "      <td>Quadrilha\\nJoão amava Teresa que amava Raimund...</td>\n",
              "      <td>3</td>\n",
              "    </tr>\n",
              "    <tr>\n",
              "      <th>4</th>\n",
              "      <td>Eugénio de Andrade</td>\n",
              "      <td>É urgente o amor\\nÉ urgente o amor.\\nÉ urgente...</td>\n",
              "      <td>3</td>\n",
              "    </tr>\n",
              "    <tr>\n",
              "      <th>5</th>\n",
              "      <td>Vinicius de Moraes</td>\n",
              "      <td>Procura-se um amigo\\nNão precisa ser homem, ba...</td>\n",
              "      <td>1</td>\n",
              "    </tr>\n",
              "    <tr>\n",
              "      <th>6</th>\n",
              "      <td>Fernando Pessoa</td>\n",
              "      <td>X. MAR PORTUGUÊS\\nÓ mar salgado, quanto do teu...</td>\n",
              "      <td>0</td>\n",
              "    </tr>\n",
              "    <tr>\n",
              "      <th>7</th>\n",
              "      <td>Vinicius de Moraes</td>\n",
              "      <td>Eu sei e você sabe\\nEu sei e você sabe\\nJá que...</td>\n",
              "      <td>5</td>\n",
              "    </tr>\n",
              "    <tr>\n",
              "      <th>8</th>\n",
              "      <td>Gonçalves Dias</td>\n",
              "      <td>Como eu te amo\\nComo se ama o silêncio, a luz,...</td>\n",
              "      <td>4</td>\n",
              "    </tr>\n",
              "    <tr>\n",
              "      <th>9</th>\n",
              "      <td>Manuel Bandeira</td>\n",
              "      <td>Poema tirado de uma notícia de jornal\\nJoão Go...</td>\n",
              "      <td>2</td>\n",
              "    </tr>\n",
              "  </tbody>\n",
              "</table>\n",
              "</div>\n",
              "    <div class=\"colab-df-buttons\">\n",
              "\n",
              "  <div class=\"colab-df-container\">\n",
              "    <button class=\"colab-df-convert\" onclick=\"convertToInteractive('df-a6bc4dd6-2dda-42eb-8e0e-1adbf0fb8fba')\"\n",
              "            title=\"Convert this dataframe to an interactive table.\"\n",
              "            style=\"display:none;\">\n",
              "\n",
              "  <svg xmlns=\"http://www.w3.org/2000/svg\" height=\"24px\" viewBox=\"0 -960 960 960\">\n",
              "    <path d=\"M120-120v-720h720v720H120Zm60-500h600v-160H180v160Zm220 220h160v-160H400v160Zm0 220h160v-160H400v160ZM180-400h160v-160H180v160Zm440 0h160v-160H620v160ZM180-180h160v-160H180v160Zm440 0h160v-160H620v160Z\"/>\n",
              "  </svg>\n",
              "    </button>\n",
              "\n",
              "  <style>\n",
              "    .colab-df-container {\n",
              "      display:flex;\n",
              "      gap: 12px;\n",
              "    }\n",
              "\n",
              "    .colab-df-convert {\n",
              "      background-color: #E8F0FE;\n",
              "      border: none;\n",
              "      border-radius: 50%;\n",
              "      cursor: pointer;\n",
              "      display: none;\n",
              "      fill: #1967D2;\n",
              "      height: 32px;\n",
              "      padding: 0 0 0 0;\n",
              "      width: 32px;\n",
              "    }\n",
              "\n",
              "    .colab-df-convert:hover {\n",
              "      background-color: #E2EBFA;\n",
              "      box-shadow: 0px 1px 2px rgba(60, 64, 67, 0.3), 0px 1px 3px 1px rgba(60, 64, 67, 0.15);\n",
              "      fill: #174EA6;\n",
              "    }\n",
              "\n",
              "    .colab-df-buttons div {\n",
              "      margin-bottom: 4px;\n",
              "    }\n",
              "\n",
              "    [theme=dark] .colab-df-convert {\n",
              "      background-color: #3B4455;\n",
              "      fill: #D2E3FC;\n",
              "    }\n",
              "\n",
              "    [theme=dark] .colab-df-convert:hover {\n",
              "      background-color: #434B5C;\n",
              "      box-shadow: 0px 1px 3px 1px rgba(0, 0, 0, 0.15);\n",
              "      filter: drop-shadow(0px 1px 2px rgba(0, 0, 0, 0.3));\n",
              "      fill: #FFFFFF;\n",
              "    }\n",
              "  </style>\n",
              "\n",
              "    <script>\n",
              "      const buttonEl =\n",
              "        document.querySelector('#df-a6bc4dd6-2dda-42eb-8e0e-1adbf0fb8fba button.colab-df-convert');\n",
              "      buttonEl.style.display =\n",
              "        google.colab.kernel.accessAllowed ? 'block' : 'none';\n",
              "\n",
              "      async function convertToInteractive(key) {\n",
              "        const element = document.querySelector('#df-a6bc4dd6-2dda-42eb-8e0e-1adbf0fb8fba');\n",
              "        const dataTable =\n",
              "          await google.colab.kernel.invokeFunction('convertToInteractive',\n",
              "                                                    [key], {});\n",
              "        if (!dataTable) return;\n",
              "\n",
              "        const docLinkHtml = 'Like what you see? Visit the ' +\n",
              "          '<a target=\"_blank\" href=https://colab.research.google.com/notebooks/data_table.ipynb>data table notebook</a>'\n",
              "          + ' to learn more about interactive tables.';\n",
              "        element.innerHTML = '';\n",
              "        dataTable['output_type'] = 'display_data';\n",
              "        await google.colab.output.renderOutput(dataTable, element);\n",
              "        const docLink = document.createElement('div');\n",
              "        docLink.innerHTML = docLinkHtml;\n",
              "        element.appendChild(docLink);\n",
              "      }\n",
              "    </script>\n",
              "  </div>\n",
              "\n",
              "\n",
              "<div id=\"df-fbef7016-56d5-4feb-8ed9-014253179ca5\">\n",
              "  <button class=\"colab-df-quickchart\" onclick=\"quickchart('df-fbef7016-56d5-4feb-8ed9-014253179ca5')\"\n",
              "            title=\"Suggest charts.\"\n",
              "            style=\"display:none;\">\n",
              "\n",
              "<svg xmlns=\"http://www.w3.org/2000/svg\" height=\"24px\"viewBox=\"0 0 24 24\"\n",
              "     width=\"24px\">\n",
              "    <g>\n",
              "        <path d=\"M19 3H5c-1.1 0-2 .9-2 2v14c0 1.1.9 2 2 2h14c1.1 0 2-.9 2-2V5c0-1.1-.9-2-2-2zM9 17H7v-7h2v7zm4 0h-2V7h2v10zm4 0h-2v-4h2v4z\"/>\n",
              "    </g>\n",
              "</svg>\n",
              "  </button>\n",
              "\n",
              "<style>\n",
              "  .colab-df-quickchart {\n",
              "    background-color: #E8F0FE;\n",
              "    border: none;\n",
              "    border-radius: 50%;\n",
              "    cursor: pointer;\n",
              "    display: none;\n",
              "    fill: #1967D2;\n",
              "    height: 32px;\n",
              "    padding: 0 0 0 0;\n",
              "    width: 32px;\n",
              "  }\n",
              "\n",
              "  .colab-df-quickchart:hover {\n",
              "    background-color: #E2EBFA;\n",
              "    box-shadow: 0px 1px 2px rgba(60, 64, 67, 0.3), 0px 1px 3px 1px rgba(60, 64, 67, 0.15);\n",
              "    fill: #174EA6;\n",
              "  }\n",
              "\n",
              "  [theme=dark] .colab-df-quickchart {\n",
              "    background-color: #3B4455;\n",
              "    fill: #D2E3FC;\n",
              "  }\n",
              "\n",
              "  [theme=dark] .colab-df-quickchart:hover {\n",
              "    background-color: #434B5C;\n",
              "    box-shadow: 0px 1px 3px 1px rgba(0, 0, 0, 0.15);\n",
              "    filter: drop-shadow(0px 1px 2px rgba(0, 0, 0, 0.3));\n",
              "    fill: #FFFFFF;\n",
              "  }\n",
              "</style>\n",
              "\n",
              "  <script>\n",
              "    async function quickchart(key) {\n",
              "      const charts = await google.colab.kernel.invokeFunction(\n",
              "          'suggestCharts', [key], {});\n",
              "    }\n",
              "    (() => {\n",
              "      let quickchartButtonEl =\n",
              "        document.querySelector('#df-fbef7016-56d5-4feb-8ed9-014253179ca5 button');\n",
              "      quickchartButtonEl.style.display =\n",
              "        google.colab.kernel.accessAllowed ? 'block' : 'none';\n",
              "    })();\n",
              "  </script>\n",
              "</div>\n",
              "    </div>\n",
              "  </div>\n"
            ],
            "text/plain": [
              "                       Author  \\\n",
              "0            Cecília Meireles   \n",
              "1             Fernando Pessoa   \n",
              "2            Marina Colasanti   \n",
              "3  Carlos Drummond de Andrade   \n",
              "4          Eugénio de Andrade   \n",
              "5          Vinicius de Moraes   \n",
              "6             Fernando Pessoa   \n",
              "7          Vinicius de Moraes   \n",
              "8              Gonçalves Dias   \n",
              "9             Manuel Bandeira   \n",
              "\n",
              "                                             Content  grupo  \n",
              "0  Retrato\\nEu não tinha este rosto de hoje,\\nAss...      3  \n",
              "1  Para ser grande, sê inteiro: nada\\nPara ser gr...      1  \n",
              "2  Eu sei, mas não devia\\nEu sei que a gente se a...      1  \n",
              "3  Quadrilha\\nJoão amava Teresa que amava Raimund...      3  \n",
              "4  É urgente o amor\\nÉ urgente o amor.\\nÉ urgente...      3  \n",
              "5  Procura-se um amigo\\nNão precisa ser homem, ba...      1  \n",
              "6  X. MAR PORTUGUÊS\\nÓ mar salgado, quanto do teu...      0  \n",
              "7  Eu sei e você sabe\\nEu sei e você sabe\\nJá que...      5  \n",
              "8  Como eu te amo\\nComo se ama o silêncio, a luz,...      4  \n",
              "9  Poema tirado de uma notícia de jornal\\nJoão Go...      2  "
            ]
          },
          "execution_count": 175,
          "metadata": {},
          "output_type": "execute_result"
        }
      ],
      "source": [
        "df_poem = poemas = df.assign(grupo = prediction)\n",
        "df_poem.head(10)"
      ]
    },
    {
      "cell_type": "code",
      "execution_count": null,
      "metadata": {
        "id": "6thFL2_NS1WV"
      },
      "outputs": [],
      "source": [
        "def get_top_features_cluster(tf_idf_array, prediction, n_feats):\n",
        "    labels = np.unique(prediction)\n",
        "    dfs = []\n",
        "    for label in labels:\n",
        "        id_temp = np.where(prediction==label) # indices for each cluster\n",
        "        x_means = np.mean(tf_idf_array[id_temp], axis = 0) # returns average score across cluster\n",
        "        sorted_means = np.argsort(x_means)[::-1][:n_feats] # indices with top 20 scores\n",
        "        features = vect.get_feature_names_out()\n",
        "        best_features = [(features[i], x_means[i]) for i in sorted_means]\n",
        "        df = pd.DataFrame(best_features, columns = ['features', 'score'])\n",
        "        dfs.append(df)\n",
        "    return dfs\n",
        "\n",
        "def plotWords(dfs, n_feats):\n",
        "    plt.figure(figsize=(8, 4))\n",
        "    for i in range(0, len(dfs)):\n",
        "        plt.title((\"Palavras mais comuns Cluster {}\".format(i)), fontsize=10, fontweight='bold')\n",
        "        sns.barplot(x = 'score' , y = 'features', orient = 'h' , data = dfs[i][:n_feats])\n",
        "        plt.show()"
      ]
    },
    {
      "cell_type": "markdown",
      "metadata": {
        "id": "9lPcHEN1CofD"
      },
      "source": [
        "### Análise das distribuição de palavras\n",
        "\n",
        "Para observar as palavras mais frequentes em cada cluster vou usar um histograma"
      ]
    },
    {
      "cell_type": "code",
      "execution_count": null,
      "metadata": {
        "colab": {
          "base_uri": "https://localhost:8080/",
          "height": 1000
        },
        "id": "gBhlZch_S5Yg",
        "outputId": "dc355958-b3c1-4236-8290-2246b576c94b"
      },
      "outputs": [
        {
          "data": {
            "image/png": "[encoded data removed]",
            "text/plain": [
              "<Figure size 800x400 with 1 Axes>"
            ]
          },
          "metadata": {},
          "output_type": "display_data"
        },
        {
          "data": {
            "image/png": "[encoded data removed]",
            "text/plain": [
              "<Figure size 640x480 with 1 Axes>"
            ]
          },
          "metadata": {},
          "output_type": "display_data"
        },
        {
          "data": {
            "image/png": "[encoded data removed]",
            "text/plain": [
              "<Figure size 640x480 with 1 Axes>"
            ]
          },
          "metadata": {},
          "output_type": "display_data"
        },
        {
          "data": {
            "image/png": "[encoded data removed]",
            "text/plain": [
              "<Figure size 640x480 with 1 Axes>"
            ]
          },
          "metadata": {},
          "output_type": "display_data"
        },
        {
          "data": {
            "image/png": "[encoded data removed]",
            "text/plain": [
              "<Figure size 640x480 with 1 Axes>"
            ]
          },
          "metadata": {},
          "output_type": "display_data"
        },
        {
          "data": {
            "image/png": "[encoded data removed]",
            "text/plain": [
              "<Figure size 640x480 with 1 Axes>"
            ]
          },
          "metadata": {},
          "output_type": "display_data"
        }
      ],
      "source": [
        "n_feats = 20\n",
        "dfs = get_top_features_cluster(final_df_array, prediction, n_feats)\n",
        "plotWords(dfs, 13)"
      ]
    },
    {
      "cell_type": "markdown",
      "metadata": {
        "id": "Lp1WHbaQnZap"
      },
      "source": [
        "### Classificando clusters"
      ]
    },
    {
      "cell_type": "code",
      "execution_count": null,
      "metadata": {
        "colab": {
          "base_uri": "https://localhost:8080/"
        },
        "id": "jgKBWl-5nF8C",
        "outputId": "37edea48-a2f6-43e9-f0dd-f39b07bdefc7"
      },
      "outputs": [
        {
          "name": "stdout",
          "output_type": "stream",
          "text": [
            "0 : noit, mar, onde, luz, sol, cant, corp, vent, olhos, sonh, sobr, sombr, dia, voz\n",
            "1 : tod, vid, deus, outr, cois, tud, nad, viv, pass, mort, porqu, sempr, mund, temp\n",
            "2 : poem, poes, livr, rio, séri, janeir, integr, brasileir, cant, poet, not, complet, pref, tod\n",
            "3 : tod, coraçã, pass, outr, vid, olhos, temp, hom, boc, faz, mort, flor, diz, tud\n",
            "4 : amor, olhos, beij, flor, sonh, sei, quer, pur, vid, amar, corp, alma, inscriçã, jan\n",
            "5 : quer, mim, sei, pens, sonh, tud, sent, alma, horror, nad, sint, ter, sab, diz\n"
          ]
        }
      ],
      "source": [
        "common_words = kmeans.cluster_centers_.argsort()[:,-1:-15:-1]\n",
        "for num, centroid in enumerate(common_words):\n",
        "    print(str(num) + ' : ' + ', '.join(words[word] for word in centroid))"
      ]
    },
    {
      "cell_type": "markdown",
      "metadata": {
        "id": "RymnZjQOrq1q"
      },
      "source": [
        "\n",
        "\n",
        "*   Grupo 0: Natureza - Tem as palavras noite, luz, sol, sombra, mar, vento\n",
        "\n",
        "*  Grupo 1: Existência e Espiritualidade - Tem as palavras deus, vida, morte, tudo e nada\n",
        "\n",
        "* Grupo 2: Poema e arte - Tem as palavras poema, poesia, poeta\n",
        "\n",
        "* Grupo 3: Corpo - Tem as palavras coração, olhos, boca, homem\n",
        "\n",
        "* Grupo 4: Amor e Intimidade - Tem as palavras amor, beijo, puro, amar\n",
        "\n",
        "* Grupo 5: Pensamentos - Tem as palavras penso, sonho, alma, sinto, horror\n",
        "\n"
      ]
    },
    {
      "cell_type": "markdown",
      "metadata": {
        "id": "PWBF3xu4r1c_"
      },
      "source": [
        "### Distribuição dos clusters"
      ]
    },
    {
      "cell_type": "code",
      "execution_count": null,
      "metadata": {
        "colab": {
          "base_uri": "https://localhost:8080/"
        },
        "id": "iaH22SOkmzIa",
        "outputId": "882c1ac3-e394-47a6-8537-d040aeadffc8"
      },
      "outputs": [
        {
          "data": {
            "text/plain": [
              "3    3424\n",
              "0    1646\n",
              "1    1468\n",
              "5     887\n",
              "2     850\n",
              "4     708\n",
              "Name: grupo, dtype: int64"
            ]
          },
          "execution_count": 179,
          "metadata": {},
          "output_type": "execute_result"
        }
      ],
      "source": [
        "df_poem['grupo'].value_counts()"
      ]
    },
    {
      "cell_type": "markdown",
      "metadata": {
        "id": "xA6wwKg4r6iw"
      },
      "source": [
        "Não são distribuidos igualmente, o grupo 03, que tem mais poemas, tem quase 5 vezes a quantidade do grupo 04 com menos poemas."
      ]
    },
    {
      "cell_type": "markdown",
      "metadata": {
        "id": "zNhjgOhfsyJz"
      },
      "source": [
        "### Análise dos autores"
      ]
    },
    {
      "cell_type": "markdown",
      "metadata": {
        "id": "mm4OybIu5JpF"
      },
      "source": [
        "Mostrando o top 10 dos autores com mais frequencia em cada grupo."
      ]
    },
    {
      "cell_type": "code",
      "execution_count": null,
      "metadata": {
        "colab": {
          "base_uri": "https://localhost:8080/"
        },
        "id": "JWyAN8g-s4mS",
        "outputId": "42263135-6a70-4d55-9b26-102d241e2284"
      },
      "outputs": [
        {
          "name": "stdout",
          "output_type": "stream",
          "text": [
            "\n",
            "-----\n",
            "GRUPO 0:\n",
            "Fernando Pessoa       168\n",
            "Castro Alves          118\n",
            "Florbela Espanca      100\n",
            "Angela Santos          98\n",
            "Nuno Júdice            57\n",
            "Al Berto               45\n",
            "Ruy Belo               35\n",
            "Mafalda Veiga          27\n",
            "Cecília Meireles       26\n",
            "Eugénio de Andrade     24\n",
            "Name: Author, dtype: int64\n",
            "-----\n",
            "\n",
            "-----\n",
            "GRUPO 1:\n",
            "Fernando Pessoa               447\n",
            "Ruy Belo                       78\n",
            "Manuel António Pina            54\n",
            "Angela Santos                  34\n",
            "Florbela Espanca               31\n",
            "Nuno Júdice                    26\n",
            "Renato Russo                   25\n",
            "Carlos Drummond de Andrade     25\n",
            "Luís de Camões                 22\n",
            "Reinaldo Ferreira              21\n",
            "Name: Author, dtype: int64\n",
            "-----\n",
            "\n",
            "-----\n",
            "GRUPO 2:\n",
            "João Cabral de Melo Neto    25\n",
            "Alphonsus de Guimaraens     21\n",
            "Cruz e Sousa                19\n",
            "Murilo Mendes               18\n",
            "Castro Alves                18\n",
            "Henriqueta Lisboa           17\n",
            "Raimundo Correia            17\n",
            "Cacaso                      16\n",
            "Joaquim Cardozo             15\n",
            "Olavo Bilac                 15\n",
            "Name: Author, dtype: int64\n",
            "-----\n",
            "\n",
            "-----\n",
            "GRUPO 3:\n",
            "Fernando Pessoa           684\n",
            "Florbela Espanca          108\n",
            "Angela Santos              71\n",
            "Bocage                     69\n",
            "Ruy Belo                   63\n",
            "Augusto dos Anjos          53\n",
            "Paulo Leminski             52\n",
            "Mário Donizete Massari     47\n",
            "Reinaldo Ferreira          47\n",
            "Manuel Bandeira            42\n",
            "Name: Author, dtype: int64\n",
            "-----\n",
            "\n",
            "-----\n",
            "GRUPO 4:\n",
            "Nuno Júdice                   99\n",
            "Florbela Espanca              69\n",
            "Fernando Pessoa               43\n",
            "Álvares de Azevedo            38\n",
            "Castro Alves                  24\n",
            "Luís de Camões                20\n",
            "Carlos Drummond de Andrade    19\n",
            "Casimiro de Abreu             18\n",
            "Angela Santos                 15\n",
            "Renata Trocoli                13\n",
            "Name: Author, dtype: int64\n",
            "-----\n",
            "\n",
            "-----\n",
            "GRUPO 5:\n",
            "Fernando Pessoa        499\n",
            "Angela Santos           37\n",
            "Florbela Espanca        36\n",
            "Renato Russo            33\n",
            "Felipe Larson           12\n",
            "Reinaldo Ferreira       12\n",
            "Manuel António Pina     11\n",
            "Luís de Camões          10\n",
            "Mafalda Veiga           10\n",
            "Hilda Hilst              8\n",
            "Name: Author, dtype: int64\n",
            "-----\n"
          ]
        }
      ],
      "source": [
        "for g in range(0, best_point):\n",
        "  print('\\n-----\\nGRUPO {}:'.format(g))\n",
        "  print(df_poem.query('grupo ==  {}'.format(g))['Author'].value_counts()[0:10])\n",
        "  print('-----')"
      ]
    },
    {
      "cell_type": "markdown",
      "metadata": {
        "id": "uOEVZSco4Dsm"
      },
      "source": [
        "Esse são os autores que aparecem em apenas um grupo: \n",
        "\n",
        "Mostra o nome do autor e em qual grupo ele pertence exclusivamente."
      ]
    },
    {
      "cell_type": "code",
      "execution_count": null,
      "metadata": {
        "colab": {
          "base_uri": "https://localhost:8080/"
        },
        "id": "YiR9WJax4LDK",
        "outputId": "99e608de-0ace-46f9-fbe0-b44b75ed5ef2"
      },
      "outputs": [
        {
          "name": "stdout",
          "output_type": "stream",
          "text": [
            "{('António Lobo de Carvalho', 3), ('Oscar Wilde', 3), ('Alphonsus de Guimaraens', 2), ('Leopoldo María Panero', 3)}\n"
          ]
        }
      ],
      "source": [
        "authorsList = df['Author'].to_list()\n",
        "\n",
        "author = set()\n",
        "for a in authorsList:\n",
        "  author_count = df_poem.query('Author == \"{}\"'.format(a))[['grupo', 'Author']].groupby('grupo').count()\n",
        "\n",
        "  if author_count.shape[0] == 1:\n",
        "    author.add((a, author_count.index.to_list()[0]))\n",
        "\n",
        "print(author)"
      ]
    }
  ],
  "metadata": {
    "colab": {
      "provenance": []
    },
    "kernelspec": {
      "display_name": "Python 3",
      "name": "python3"
    },
    "language_info": {
      "name": "python"
    }
  },
  "nbformat": 4,
  "nbformat_minor": 0
}
