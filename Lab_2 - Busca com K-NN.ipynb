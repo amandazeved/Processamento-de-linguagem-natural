{
  "cells": [
    {
      "cell_type": "markdown",
      "metadata": {
        "id": "-irR_6vjoBbS"
      },
      "source": [
        "# Busca com K-NN - LAB 02\n",
        "\n",
        "Objetivo: A partir de palavras-chave encontrar as notícias mais similares usando busca K-NN (K-nearest neighbors) e procurar as notícias mais similares a uma notícia do corpus.\n",
        "\n",
        "O K-NN tenta classificar cada amostra de um conjunto de dados avaliando sua distância em relação aos vizinhos mais próximos. Exemplo de funções de distância é a Distância Euclidiana, a Distância Manhattan, Similaridade de cossenos.\n",
        "\n",
        "Nesse trabalho usa o pacote Scikit-Learn. \n",
        "Usa a similaridade de cossenos para o cálculo da distância e classificação Binária, Term Frequency (TF) e Term Frequency-Inverse Document Frequency (TF-IDF).\n"
      ]
    },
    {
      "cell_type": "markdown",
      "metadata": {
        "id": "an2y5Mu3oaGr"
      },
      "source": [
        "Pegando o dataframe:"
      ]
    },
    {
      "cell_type": "code",
      "execution_count": null,
      "metadata": {
        "id": "AgvmFy6BufVT"
      },
      "outputs": [],
      "source": [
        "import pandas as pd\n",
        "import numpy as np\n",
        "from sklearn.feature_extraction.text import TfidfVectorizer\n",
        "from sklearn.neighbors import NearestNeighbors\n",
        "from sklearn.feature_extraction.text import CountVectorizer\n",
        "from sklearn.metrics.pairwise import cosine_similarity"
      ]
    },
    {
      "cell_type": "code",
      "execution_count": null,
      "metadata": {
        "colab": {
          "base_uri": "https://localhost:8080/",
          "height": 363
        },
        "id": "L9-C1gUdgCJL",
        "outputId": "76c577f9-1cb0-4bcc-9314-6a16462169fc"
      },
      "outputs": [
        {
          "data": {
            "text/html": [
              "\n",
              "\n",
              "  <div id=\"df-92ef4bd9-2353-403a-af8b-3616b0e431b2\">\n",
              "    <div class=\"colab-df-container\">\n",
              "      <div>\n",
              "<style scoped>\n",
              "    .dataframe tbody tr th:only-of-type {\n",
              "        vertical-align: middle;\n",
              "    }\n",
              "\n",
              "    .dataframe tbody tr th {\n",
              "        vertical-align: top;\n",
              "    }\n",
              "\n",
              "    .dataframe thead th {\n",
              "        text-align: right;\n",
              "    }\n",
              "</style>\n",
              "<table border=\"1\" class=\"dataframe\">\n",
              "  <thead>\n",
              "    <tr style=\"text-align: right;\">\n",
              "      <th></th>\n",
              "      <th>titulo</th>\n",
              "      <th>conteudo</th>\n",
              "    </tr>\n",
              "  </thead>\n",
              "  <tbody>\n",
              "    <tr>\n",
              "      <th>0</th>\n",
              "      <td>Desenhos que icebergs deixam no fundo do mar c...</td>\n",
              "      <td>A imagem acima parece um desenho com giz de ce...</td>\n",
              "    </tr>\n",
              "    <tr>\n",
              "      <th>1</th>\n",
              "      <td>Bolas de neve gigantes aparecem em praia da Si...</td>\n",
              "      <td>Moradores do Golfo de Ob, no noroeste da Sibér...</td>\n",
              "    </tr>\n",
              "    <tr>\n",
              "      <th>2</th>\n",
              "      <td>Projeto de termelétrica no litoral de SP gera ...</td>\n",
              "      <td>O plano de construção de um complexo termelétr...</td>\n",
              "    </tr>\n",
              "    <tr>\n",
              "      <th>3</th>\n",
              "      <td>Cidades com mais mata atlântica estão no litor...</td>\n",
              "      <td>Ubatuba, Ilhabela e São Sebastião, todas no li...</td>\n",
              "    </tr>\n",
              "    <tr>\n",
              "      <th>4</th>\n",
              "      <td>Câmara aprova projeto que facilita exploração ...</td>\n",
              "      <td>Após mais de sete meses de impasse e intensas ...</td>\n",
              "    </tr>\n",
              "    <tr>\n",
              "      <th>5</th>\n",
              "      <td>Oceanos perderam 2% de oxigênio desde 1960, ap...</td>\n",
              "      <td>Os oceanos do mundo perderam mais de 2% do seu...</td>\n",
              "    </tr>\n",
              "    <tr>\n",
              "      <th>6</th>\n",
              "      <td>Agricultura urbana gera renda e comida limpa n...</td>\n",
              "      <td>José Aparecido Candido Vieira, 65, era vendedo...</td>\n",
              "    </tr>\n",
              "    <tr>\n",
              "      <th>7</th>\n",
              "      <td>ONU e França pedem que Trump respeite acordo d...</td>\n",
              "      <td>O secretário-geral da Organização das Nações U...</td>\n",
              "    </tr>\n",
              "    <tr>\n",
              "      <th>8</th>\n",
              "      <td>Isenção de imposto no Paraná ajuda donos de im...</td>\n",
              "      <td>O intenso pio das corujas foi o que mais impre...</td>\n",
              "    </tr>\n",
              "    <tr>\n",
              "      <th>9</th>\n",
              "      <td>Temer revoga decreto sobre reserva mineral e a...</td>\n",
              "      <td>Menos de uma semana depois de anunciar a extin...</td>\n",
              "    </tr>\n",
              "  </tbody>\n",
              "</table>\n",
              "</div>\n",
              "      <button class=\"colab-df-convert\" onclick=\"convertToInteractive('df-92ef4bd9-2353-403a-af8b-3616b0e431b2')\"\n",
              "              title=\"Convert this dataframe to an interactive table.\"\n",
              "              style=\"display:none;\">\n",
              "\n",
              "  <svg xmlns=\"http://www.w3.org/2000/svg\" height=\"24px\"viewBox=\"0 0 24 24\"\n",
              "       width=\"24px\">\n",
              "    <path d=\"M0 0h24v24H0V0z\" fill=\"none\"/>\n",
              "    <path d=\"M18.56 5.44l.94 2.06.94-2.06 2.06-.94-2.06-.94-.94-2.06-.94 2.06-2.06.94zm-11 1L8.5 8.5l.94-2.06 2.06-.94-2.06-.94L8.5 2.5l-.94 2.06-2.06.94zm10 10l.94 2.06.94-2.06 2.06-.94-2.06-.94-.94-2.06-.94 2.06-2.06.94z\"/><path d=\"M17.41 7.96l-1.37-1.37c-.4-.4-.92-.59-1.43-.59-.52 0-1.04.2-1.43.59L10.3 9.45l-7.72 7.72c-.78.78-.78 2.05 0 2.83L4 21.41c.39.39.9.59 1.41.59.51 0 1.02-.2 1.41-.59l7.78-7.78 2.81-2.81c.8-.78.8-2.07 0-2.86zM5.41 20L4 18.59l7.72-7.72 1.47 1.35L5.41 20z\"/>\n",
              "  </svg>\n",
              "      </button>\n",
              "\n",
              "\n",
              "\n",
              "    <div id=\"df-4d888573-c10d-473f-8718-3bf3037417ad\">\n",
              "      <button class=\"colab-df-quickchart\" onclick=\"quickchart('df-4d888573-c10d-473f-8718-3bf3037417ad')\"\n",
              "              title=\"Suggest charts.\"\n",
              "              style=\"display:none;\">\n",
              "\n",
              "<svg xmlns=\"http://www.w3.org/2000/svg\" height=\"24px\"viewBox=\"0 0 24 24\"\n",
              "     width=\"24px\">\n",
              "    <g>\n",
              "        <path d=\"M19 3H5c-1.1 0-2 .9-2 2v14c0 1.1.9 2 2 2h14c1.1 0 2-.9 2-2V5c0-1.1-.9-2-2-2zM9 17H7v-7h2v7zm4 0h-2V7h2v10zm4 0h-2v-4h2v4z\"/>\n",
              "    </g>\n",
              "</svg>\n",
              "      </button>\n",
              "    </div>\n",
              "\n",
              "<style>\n",
              "  .colab-df-quickchart {\n",
              "    background-color: #E8F0FE;\n",
              "    border: none;\n",
              "    border-radius: 50%;\n",
              "    cursor: pointer;\n",
              "    display: none;\n",
              "    fill: #1967D2;\n",
              "    height: 32px;\n",
              "    padding: 0 0 0 0;\n",
              "    width: 32px;\n",
              "  }\n",
              "\n",
              "  .colab-df-quickchart:hover {\n",
              "    background-color: #E2EBFA;\n",
              "    box-shadow: 0px 1px 2px rgba(60, 64, 67, 0.3), 0px 1px 3px 1px rgba(60, 64, 67, 0.15);\n",
              "    fill: #174EA6;\n",
              "  }\n",
              "\n",
              "  [theme=dark] .colab-df-quickchart {\n",
              "    background-color: #3B4455;\n",
              "    fill: #D2E3FC;\n",
              "  }\n",
              "\n",
              "  [theme=dark] .colab-df-quickchart:hover {\n",
              "    background-color: #434B5C;\n",
              "    box-shadow: 0px 1px 3px 1px rgba(0, 0, 0, 0.15);\n",
              "    filter: drop-shadow(0px 1px 2px rgba(0, 0, 0, 0.3));\n",
              "    fill: #FFFFFF;\n",
              "  }\n",
              "</style>\n",
              "\n",
              "    <script>\n",
              "      async function quickchart(key) {\n",
              "        const containerElement = document.querySelector('#' + key);\n",
              "        const charts = await google.colab.kernel.invokeFunction(\n",
              "            'suggestCharts', [key], {});\n",
              "      }\n",
              "    </script>\n",
              "\n",
              "      <script>\n",
              "\n",
              "function displayQuickchartButton(domScope) {\n",
              "  let quickchartButtonEl =\n",
              "    domScope.querySelector('#df-4d888573-c10d-473f-8718-3bf3037417ad button.colab-df-quickchart');\n",
              "  quickchartButtonEl.style.display =\n",
              "    google.colab.kernel.accessAllowed ? 'block' : 'none';\n",
              "}\n",
              "\n",
              "        displayQuickchartButton(document);\n",
              "      </script>\n",
              "      <style>\n",
              "    .colab-df-container {\n",
              "      display:flex;\n",
              "      flex-wrap:wrap;\n",
              "      gap: 12px;\n",
              "    }\n",
              "\n",
              "    .colab-df-convert {\n",
              "      background-color: #E8F0FE;\n",
              "      border: none;\n",
              "      border-radius: 50%;\n",
              "      cursor: pointer;\n",
              "      display: none;\n",
              "      fill: #1967D2;\n",
              "      height: 32px;\n",
              "      padding: 0 0 0 0;\n",
              "      width: 32px;\n",
              "    }\n",
              "\n",
              "    .colab-df-convert:hover {\n",
              "      background-color: #E2EBFA;\n",
              "      box-shadow: 0px 1px 2px rgba(60, 64, 67, 0.3), 0px 1px 3px 1px rgba(60, 64, 67, 0.15);\n",
              "      fill: #174EA6;\n",
              "    }\n",
              "\n",
              "    [theme=dark] .colab-df-convert {\n",
              "      background-color: #3B4455;\n",
              "      fill: #D2E3FC;\n",
              "    }\n",
              "\n",
              "    [theme=dark] .colab-df-convert:hover {\n",
              "      background-color: #434B5C;\n",
              "      box-shadow: 0px 1px 3px 1px rgba(0, 0, 0, 0.15);\n",
              "      filter: drop-shadow(0px 1px 2px rgba(0, 0, 0, 0.3));\n",
              "      fill: #FFFFFF;\n",
              "    }\n",
              "  </style>\n",
              "\n",
              "      <script>\n",
              "        const buttonEl =\n",
              "          document.querySelector('#df-92ef4bd9-2353-403a-af8b-3616b0e431b2 button.colab-df-convert');\n",
              "        buttonEl.style.display =\n",
              "          google.colab.kernel.accessAllowed ? 'block' : 'none';\n",
              "\n",
              "        async function convertToInteractive(key) {\n",
              "          const element = document.querySelector('#df-92ef4bd9-2353-403a-af8b-3616b0e431b2');\n",
              "          const dataTable =\n",
              "            await google.colab.kernel.invokeFunction('convertToInteractive',\n",
              "                                                     [key], {});\n",
              "          if (!dataTable) return;\n",
              "\n",
              "          const docLinkHtml = 'Like what you see? Visit the ' +\n",
              "            '<a target=\"_blank\" href=https://colab.research.google.com/notebooks/data_table.ipynb>data table notebook</a>'\n",
              "            + ' to learn more about interactive tables.';\n",
              "          element.innerHTML = '';\n",
              "          dataTable['output_type'] = 'display_data';\n",
              "          await google.colab.output.renderOutput(dataTable, element);\n",
              "          const docLink = document.createElement('div');\n",
              "          docLink.innerHTML = docLinkHtml;\n",
              "          element.appendChild(docLink);\n",
              "        }\n",
              "      </script>\n",
              "    </div>\n",
              "  </div>\n"
            ],
            "text/plain": [
              "                                              titulo  \\\n",
              "0  Desenhos que icebergs deixam no fundo do mar c...   \n",
              "1  Bolas de neve gigantes aparecem em praia da Si...   \n",
              "2  Projeto de termelétrica no litoral de SP gera ...   \n",
              "3  Cidades com mais mata atlântica estão no litor...   \n",
              "4  Câmara aprova projeto que facilita exploração ...   \n",
              "5  Oceanos perderam 2% de oxigênio desde 1960, ap...   \n",
              "6  Agricultura urbana gera renda e comida limpa n...   \n",
              "7  ONU e França pedem que Trump respeite acordo d...   \n",
              "8  Isenção de imposto no Paraná ajuda donos de im...   \n",
              "9  Temer revoga decreto sobre reserva mineral e a...   \n",
              "\n",
              "                                            conteudo  \n",
              "0  A imagem acima parece um desenho com giz de ce...  \n",
              "1  Moradores do Golfo de Ob, no noroeste da Sibér...  \n",
              "2  O plano de construção de um complexo termelétr...  \n",
              "3  Ubatuba, Ilhabela e São Sebastião, todas no li...  \n",
              "4  Após mais de sete meses de impasse e intensas ...  \n",
              "5  Os oceanos do mundo perderam mais de 2% do seu...  \n",
              "6  José Aparecido Candido Vieira, 65, era vendedo...  \n",
              "7  O secretário-geral da Organização das Nações U...  \n",
              "8  O intenso pio das corujas foi o que mais impre...  \n",
              "9  Menos de uma semana depois de anunciar a extin...  "
            ]
          },
          "execution_count": 3,
          "metadata": {},
          "output_type": "execute_result"
        }
      ],
      "source": [
        "url = \"https://gist.githubusercontent.com/issilva5/665cb1a2fee6d0e7a144dd1f48fd07d4/raw/ba4b864530493ab1ef8bd59f695d43cba726d3b8/noticias_folha_sample.csv\"\n",
        "df = pd.read_csv(url)\n",
        "df.head(10)"
      ]
    },
    {
      "cell_type": "code",
      "execution_count": null,
      "metadata": {
        "colab": {
          "base_uri": "https://localhost:8080/"
        },
        "id": "cjQNu3f5ofvC",
        "outputId": "363bc192-fcbc-4fca-a760-0eb94277f35e"
      },
      "outputs": [
        {
          "data": {
            "text/plain": [
              "(8294, 2)"
            ]
          },
          "execution_count": 4,
          "metadata": {},
          "output_type": "execute_result"
        }
      ],
      "source": [
        "df.shape # dimensões"
      ]
    },
    {
      "cell_type": "markdown",
      "metadata": {
        "id": "AuQ5UiZxoifk"
      },
      "source": [
        "## Buscando notícias usando palavras-chave"
      ]
    },
    {
      "cell_type": "markdown",
      "metadata": {
        "id": "u7y4YFWRostZ"
      },
      "source": [
        "Definindo conjunto de palavras-chaves:"
      ]
    },
    {
      "cell_type": "code",
      "execution_count": null,
      "metadata": {
        "id": "iSNCxG5cpBD7"
      },
      "outputs": [],
      "source": [
        "keyword = \"clima ecossistema temperatura mudança climática\"\n",
        "k=3"
      ]
    },
    {
      "cell_type": "markdown",
      "metadata": {
        "id": "dQnhey8gW59s"
      },
      "source": [
        "Funções que vou utilizar:"
      ]
    },
    {
      "cell_type": "code",
      "execution_count": null,
      "metadata": {
        "id": "R4omDeaHW-Yo"
      },
      "outputs": [],
      "source": [
        "# Criação do vetorizador binário e matriz\n",
        "def buildCountVectorizer_binary(docs):\n",
        "  vectorizer = CountVectorizer(binary=True)\n",
        "  matrix = vectorizer.fit_transform(docs)\n",
        "  return matrix, vectorizer\n",
        "\n",
        "# Criação do vetorizador TF e matriz\n",
        "def buildTFVectorizer(docs):\n",
        "  vect = TfidfVectorizer(use_idf=False)\n",
        "  matrix = vect.fit_transform(docs)\n",
        "  return matrix, vect\n",
        "\n",
        "# Criação do vetorizador TF-IDF e matriz\n",
        "def buildTFIDFVectorizer(docs):\n",
        "  vect = TfidfVectorizer()\n",
        "  matrix = vect.fit_transform(docs)\n",
        "  return matrix, vect\n",
        "\n",
        "# Vetoriza a keyword\n",
        "def vectorizerKeyword(keyword, vectorizer):\n",
        "    query_name = [keyword]\n",
        "    query = vectorizer.transform(query_name)\n",
        "    return query\n",
        "\n",
        "# Busca os k vizinhos mais proximo\n",
        "def getNearestNeighbors(k, matrix, query):\n",
        "  neigh = NearestNeighbors(n_neighbors=k)\n",
        "  neigh.fit(matrix)\n",
        "  knn = neigh.kneighbors(query,k)\n",
        "  return knn"
      ]
    },
    {
      "cell_type": "markdown",
      "metadata": {
        "id": "bcoKZc7SpIVR"
      },
      "source": [
        "### Tipo de representação: Binário"
      ]
    },
    {
      "cell_type": "markdown",
      "metadata": {
        "id": "AeUOvrkxvjMY"
      },
      "source": [
        "#### Busca por título\n",
        "Primeiro usando só o **titulo** para buscar as notícias mais similares:"
      ]
    },
    {
      "cell_type": "code",
      "execution_count": null,
      "metadata": {
        "id": "FvNo6z2NqLBR"
      },
      "outputs": [],
      "source": [
        "binary_matrix, vectorizer = buildCountVectorizer_binary(df['titulo'])"
      ]
    },
    {
      "cell_type": "code",
      "execution_count": null,
      "metadata": {
        "id": "ABovIC0X1VSR"
      },
      "outputs": [],
      "source": [
        "# Vetorizar a nova sentença\n",
        "query = vectorizerKeyword(keyword, vectorizer)\n",
        "\n",
        "# Calcular a similaridade do cosseno entre a nova sentença e os dados existentes\n",
        "cosine_similarities = cosine_similarity(query, binary_matrix).flatten()\n",
        "\n",
        "# Obter os índices das k frases mais semelhantes\n",
        "indices = cosine_similarities.argsort()[-k:][::-1]\n"
      ]
    },
    {
      "cell_type": "code",
      "execution_count": null,
      "metadata": {
        "colab": {
          "base_uri": "https://localhost:8080/"
        },
        "id": "Tj-f8XJe2tKo",
        "outputId": "e14f4bba-7004-432b-85ca-6312f31c27db"
      },
      "outputs": [
        {
          "data": {
            "text/plain": [
              "475                                                         Clima marombado\n",
              "5598             Obama admite responsabilidade dos EUA em mudança climática\n",
              "5960    EUA têm consciência sobre mudança climática, diz Obama na Argentina\n",
              "Name: titulo, dtype: object"
            ]
          },
          "execution_count": 46,
          "metadata": {},
          "output_type": "execute_result"
        }
      ],
      "source": [
        "pd.options.display.max_colwidth = 150\n",
        "result_binary_titulo = df.iloc[indices]['titulo']\n",
        "result_binary_titulo"
      ]
    },
    {
      "cell_type": "markdown",
      "metadata": {
        "id": "TgipAuXEE2sw"
      },
      "source": [
        "#### Busca por título e conteúdo\n",
        "Usando o **titulo** e **conteudo**, para isso criei uma coluna combinando as duas colunas."
      ]
    },
    {
      "cell_type": "code",
      "execution_count": null,
      "metadata": {
        "colab": {
          "base_uri": "https://localhost:8080/",
          "height": 337
        },
        "id": "Qm4P_JcrIt3S",
        "outputId": "853d828c-e553-4611-9603-5a9051ffe989"
      },
      "outputs": [
        {
          "data": {
            "text/html": [
              "\n",
              "\n",
              "  <div id=\"df-9826b5c3-b06d-4019-8f0c-2a9ebb280175\">\n",
              "    <div class=\"colab-df-container\">\n",
              "      <div>\n",
              "<style scoped>\n",
              "    .dataframe tbody tr th:only-of-type {\n",
              "        vertical-align: middle;\n",
              "    }\n",
              "\n",
              "    .dataframe tbody tr th {\n",
              "        vertical-align: top;\n",
              "    }\n",
              "\n",
              "    .dataframe thead th {\n",
              "        text-align: right;\n",
              "    }\n",
              "</style>\n",
              "<table border=\"1\" class=\"dataframe\">\n",
              "  <thead>\n",
              "    <tr style=\"text-align: right;\">\n",
              "      <th></th>\n",
              "      <th>titulo</th>\n",
              "      <th>conteudo</th>\n",
              "      <th>titulo_conteudo</th>\n",
              "    </tr>\n",
              "  </thead>\n",
              "  <tbody>\n",
              "    <tr>\n",
              "      <th>0</th>\n",
              "      <td>Desenhos que icebergs deixam no fundo do mar contam história do clima</td>\n",
              "      <td>A imagem acima parece um desenho com giz de cera feito por uma criança.  Mas, na verdade, trata-se de uma foto das imensas \"cicatrizes\" deixadas n...</td>\n",
              "      <td>Desenhos que icebergs deixam no fundo do mar contam história do clima: A imagem acima parece um desenho com giz de cera feito por uma criança.  Ma...</td>\n",
              "    </tr>\n",
              "    <tr>\n",
              "      <th>1</th>\n",
              "      <td>Bolas de neve gigantes aparecem em praia da Sibéria</td>\n",
              "      <td>Moradores do Golfo de Ob, no noroeste da Sibéria (Rússia), foram surpreendidos neste sábado com milhares de bolas de neve espalhadas pela praia.  ...</td>\n",
              "      <td>Bolas de neve gigantes aparecem em praia da Sibéria: Moradores do Golfo de Ob, no noroeste da Sibéria (Rússia), foram surpreendidos neste sábado c...</td>\n",
              "    </tr>\n",
              "    <tr>\n",
              "      <th>2</th>\n",
              "      <td>Projeto de termelétrica no litoral de SP gera preocupações ambientais</td>\n",
              "      <td>O plano de construção de um complexo termelétrico em Peruíbe, na Baixada Santista, tem gerado controvérsia na cidade, alarmado biólogos e ambienta...</td>\n",
              "      <td>Projeto de termelétrica no litoral de SP gera preocupações ambientais: O plano de construção de um complexo termelétrico em Peruíbe, na Baixada Sa...</td>\n",
              "    </tr>\n",
              "    <tr>\n",
              "      <th>3</th>\n",
              "      <td>Cidades com mais mata atlântica estão no litoral norte de SP, diz estudo</td>\n",
              "      <td>Ubatuba, Ilhabela e São Sebastião, todas no litoral norte de São Paulo, são os municípios com mais mata atlântica no Estado.  De acordo com o Atla...</td>\n",
              "      <td>Cidades com mais mata atlântica estão no litoral norte de SP, diz estudo: Ubatuba, Ilhabela e São Sebastião, todas no litoral norte de São Paulo, ...</td>\n",
              "    </tr>\n",
              "    <tr>\n",
              "      <th>4</th>\n",
              "      <td>Câmara aprova projeto que facilita exploração de biodiversidade</td>\n",
              "      <td>Após mais de sete meses de impasse e intensas negociações, a Câmara dos Deputados aprovou na noite desta segunda-feira (9) um projeto que facilita...</td>\n",
              "      <td>Câmara aprova projeto que facilita exploração de biodiversidade: Após mais de sete meses de impasse e intensas negociações, a Câmara dos Deputados...</td>\n",
              "    </tr>\n",
              "  </tbody>\n",
              "</table>\n",
              "</div>\n",
              "      <button class=\"colab-df-convert\" onclick=\"convertToInteractive('df-9826b5c3-b06d-4019-8f0c-2a9ebb280175')\"\n",
              "              title=\"Convert this dataframe to an interactive table.\"\n",
              "              style=\"display:none;\">\n",
              "\n",
              "  <svg xmlns=\"http://www.w3.org/2000/svg\" height=\"24px\"viewBox=\"0 0 24 24\"\n",
              "       width=\"24px\">\n",
              "    <path d=\"M0 0h24v24H0V0z\" fill=\"none\"/>\n",
              "    <path d=\"M18.56 5.44l.94 2.06.94-2.06 2.06-.94-2.06-.94-.94-2.06-.94 2.06-2.06.94zm-11 1L8.5 8.5l.94-2.06 2.06-.94-2.06-.94L8.5 2.5l-.94 2.06-2.06.94zm10 10l.94 2.06.94-2.06 2.06-.94-2.06-.94-.94-2.06-.94 2.06-2.06.94z\"/><path d=\"M17.41 7.96l-1.37-1.37c-.4-.4-.92-.59-1.43-.59-.52 0-1.04.2-1.43.59L10.3 9.45l-7.72 7.72c-.78.78-.78 2.05 0 2.83L4 21.41c.39.39.9.59 1.41.59.51 0 1.02-.2 1.41-.59l7.78-7.78 2.81-2.81c.8-.78.8-2.07 0-2.86zM5.41 20L4 18.59l7.72-7.72 1.47 1.35L5.41 20z\"/>\n",
              "  </svg>\n",
              "      </button>\n",
              "\n",
              "\n",
              "\n",
              "    <div id=\"df-f16e86ae-5983-4896-a4e8-edc1d4b7391f\">\n",
              "      <button class=\"colab-df-quickchart\" onclick=\"quickchart('df-f16e86ae-5983-4896-a4e8-edc1d4b7391f')\"\n",
              "              title=\"Suggest charts.\"\n",
              "              style=\"display:none;\">\n",
              "\n",
              "<svg xmlns=\"http://www.w3.org/2000/svg\" height=\"24px\"viewBox=\"0 0 24 24\"\n",
              "     width=\"24px\">\n",
              "    <g>\n",
              "        <path d=\"M19 3H5c-1.1 0-2 .9-2 2v14c0 1.1.9 2 2 2h14c1.1 0 2-.9 2-2V5c0-1.1-.9-2-2-2zM9 17H7v-7h2v7zm4 0h-2V7h2v10zm4 0h-2v-4h2v4z\"/>\n",
              "    </g>\n",
              "</svg>\n",
              "      </button>\n",
              "    </div>\n",
              "\n",
              "<style>\n",
              "  .colab-df-quickchart {\n",
              "    background-color: #E8F0FE;\n",
              "    border: none;\n",
              "    border-radius: 50%;\n",
              "    cursor: pointer;\n",
              "    display: none;\n",
              "    fill: #1967D2;\n",
              "    height: 32px;\n",
              "    padding: 0 0 0 0;\n",
              "    width: 32px;\n",
              "  }\n",
              "\n",
              "  .colab-df-quickchart:hover {\n",
              "    background-color: #E2EBFA;\n",
              "    box-shadow: 0px 1px 2px rgba(60, 64, 67, 0.3), 0px 1px 3px 1px rgba(60, 64, 67, 0.15);\n",
              "    fill: #174EA6;\n",
              "  }\n",
              "\n",
              "  [theme=dark] .colab-df-quickchart {\n",
              "    background-color: #3B4455;\n",
              "    fill: #D2E3FC;\n",
              "  }\n",
              "\n",
              "  [theme=dark] .colab-df-quickchart:hover {\n",
              "    background-color: #434B5C;\n",
              "    box-shadow: 0px 1px 3px 1px rgba(0, 0, 0, 0.15);\n",
              "    filter: drop-shadow(0px 1px 2px rgba(0, 0, 0, 0.3));\n",
              "    fill: #FFFFFF;\n",
              "  }\n",
              "</style>\n",
              "\n",
              "    <script>\n",
              "      async function quickchart(key) {\n",
              "        const containerElement = document.querySelector('#' + key);\n",
              "        const charts = await google.colab.kernel.invokeFunction(\n",
              "            'suggestCharts', [key], {});\n",
              "      }\n",
              "    </script>\n",
              "\n",
              "      <script>\n",
              "\n",
              "function displayQuickchartButton(domScope) {\n",
              "  let quickchartButtonEl =\n",
              "    domScope.querySelector('#df-f16e86ae-5983-4896-a4e8-edc1d4b7391f button.colab-df-quickchart');\n",
              "  quickchartButtonEl.style.display =\n",
              "    google.colab.kernel.accessAllowed ? 'block' : 'none';\n",
              "}\n",
              "\n",
              "        displayQuickchartButton(document);\n",
              "      </script>\n",
              "      <style>\n",
              "    .colab-df-container {\n",
              "      display:flex;\n",
              "      flex-wrap:wrap;\n",
              "      gap: 12px;\n",
              "    }\n",
              "\n",
              "    .colab-df-convert {\n",
              "      background-color: #E8F0FE;\n",
              "      border: none;\n",
              "      border-radius: 50%;\n",
              "      cursor: pointer;\n",
              "      display: none;\n",
              "      fill: #1967D2;\n",
              "      height: 32px;\n",
              "      padding: 0 0 0 0;\n",
              "      width: 32px;\n",
              "    }\n",
              "\n",
              "    .colab-df-convert:hover {\n",
              "      background-color: #E2EBFA;\n",
              "      box-shadow: 0px 1px 2px rgba(60, 64, 67, 0.3), 0px 1px 3px 1px rgba(60, 64, 67, 0.15);\n",
              "      fill: #174EA6;\n",
              "    }\n",
              "\n",
              "    [theme=dark] .colab-df-convert {\n",
              "      background-color: #3B4455;\n",
              "      fill: #D2E3FC;\n",
              "    }\n",
              "\n",
              "    [theme=dark] .colab-df-convert:hover {\n",
              "      background-color: #434B5C;\n",
              "      box-shadow: 0px 1px 3px 1px rgba(0, 0, 0, 0.15);\n",
              "      filter: drop-shadow(0px 1px 2px rgba(0, 0, 0, 0.3));\n",
              "      fill: #FFFFFF;\n",
              "    }\n",
              "  </style>\n",
              "\n",
              "      <script>\n",
              "        const buttonEl =\n",
              "          document.querySelector('#df-9826b5c3-b06d-4019-8f0c-2a9ebb280175 button.colab-df-convert');\n",
              "        buttonEl.style.display =\n",
              "          google.colab.kernel.accessAllowed ? 'block' : 'none';\n",
              "\n",
              "        async function convertToInteractive(key) {\n",
              "          const element = document.querySelector('#df-9826b5c3-b06d-4019-8f0c-2a9ebb280175');\n",
              "          const dataTable =\n",
              "            await google.colab.kernel.invokeFunction('convertToInteractive',\n",
              "                                                     [key], {});\n",
              "          if (!dataTable) return;\n",
              "\n",
              "          const docLinkHtml = 'Like what you see? Visit the ' +\n",
              "            '<a target=\"_blank\" href=https://colab.research.google.com/notebooks/data_table.ipynb>data table notebook</a>'\n",
              "            + ' to learn more about interactive tables.';\n",
              "          element.innerHTML = '';\n",
              "          dataTable['output_type'] = 'display_data';\n",
              "          await google.colab.output.renderOutput(dataTable, element);\n",
              "          const docLink = document.createElement('div');\n",
              "          docLink.innerHTML = docLinkHtml;\n",
              "          element.appendChild(docLink);\n",
              "        }\n",
              "      </script>\n",
              "    </div>\n",
              "  </div>\n"
            ],
            "text/plain": [
              "                                                                     titulo  \\\n",
              "0     Desenhos que icebergs deixam no fundo do mar contam história do clima   \n",
              "1                       Bolas de neve gigantes aparecem em praia da Sibéria   \n",
              "2     Projeto de termelétrica no litoral de SP gera preocupações ambientais   \n",
              "3  Cidades com mais mata atlântica estão no litoral norte de SP, diz estudo   \n",
              "4           Câmara aprova projeto que facilita exploração de biodiversidade   \n",
              "\n",
              "                                                                                                                                                conteudo  \\\n",
              "0  A imagem acima parece um desenho com giz de cera feito por uma criança.  Mas, na verdade, trata-se de uma foto das imensas \"cicatrizes\" deixadas n...   \n",
              "1  Moradores do Golfo de Ob, no noroeste da Sibéria (Rússia), foram surpreendidos neste sábado com milhares de bolas de neve espalhadas pela praia.  ...   \n",
              "2  O plano de construção de um complexo termelétrico em Peruíbe, na Baixada Santista, tem gerado controvérsia na cidade, alarmado biólogos e ambienta...   \n",
              "3  Ubatuba, Ilhabela e São Sebastião, todas no litoral norte de São Paulo, são os municípios com mais mata atlântica no Estado.  De acordo com o Atla...   \n",
              "4  Após mais de sete meses de impasse e intensas negociações, a Câmara dos Deputados aprovou na noite desta segunda-feira (9) um projeto que facilita...   \n",
              "\n",
              "                                                                                                                                         titulo_conteudo  \n",
              "0  Desenhos que icebergs deixam no fundo do mar contam história do clima: A imagem acima parece um desenho com giz de cera feito por uma criança.  Ma...  \n",
              "1  Bolas de neve gigantes aparecem em praia da Sibéria: Moradores do Golfo de Ob, no noroeste da Sibéria (Rússia), foram surpreendidos neste sábado c...  \n",
              "2  Projeto de termelétrica no litoral de SP gera preocupações ambientais: O plano de construção de um complexo termelétrico em Peruíbe, na Baixada Sa...  \n",
              "3  Cidades com mais mata atlântica estão no litoral norte de SP, diz estudo: Ubatuba, Ilhabela e São Sebastião, todas no litoral norte de São Paulo, ...  \n",
              "4  Câmara aprova projeto que facilita exploração de biodiversidade: Após mais de sete meses de impasse e intensas negociações, a Câmara dos Deputados...  "
            ]
          },
          "execution_count": 10,
          "metadata": {},
          "output_type": "execute_result"
        }
      ],
      "source": [
        "# Criar uma coluna combinando título e conteúdo\n",
        "df['titulo_conteudo'] = df['titulo'] + ': ' + df['conteudo']\n",
        "df.head(5)"
      ]
    },
    {
      "cell_type": "code",
      "execution_count": null,
      "metadata": {
        "id": "VD-yf6dBKRrM"
      },
      "outputs": [],
      "source": [
        "binary_matrix_tc, vectorizer_tc = buildCountVectorizer_binary(df['titulo_conteudo'])"
      ]
    },
    {
      "cell_type": "code",
      "execution_count": null,
      "metadata": {
        "id": "jZIkt4SOKWLs"
      },
      "outputs": [],
      "source": [
        "query = vectorizerKeyword(keyword, vectorizer_tc)\n",
        "\n",
        "cosine_similarities = cosine_similarity(query, binary_matrix_tc).flatten()\n",
        "indices_tc = cosine_similarities.argsort()[-k:][::-1]"
      ]
    },
    {
      "cell_type": "code",
      "execution_count": null,
      "metadata": {
        "colab": {
          "base_uri": "https://localhost:8080/"
        },
        "id": "OoU2mCLYKh4C",
        "outputId": "7895f88f-a7b2-4251-bf98-96fe455dcd88"
      },
      "outputs": [
        {
          "data": {
            "text/plain": [
              "1468           Temperatura sobe e São Paulo terá 'clima de verão' a partir do feriado\n",
              "544     Países reunidos em NY querem barrar uso de HFC, um dos gases do efeito estufa\n",
              "5661         ONGs pressionam por mais proteção a países ameaçados pelo clima na COP21\n",
              "Name: titulo, dtype: object"
            ]
          },
          "execution_count": 48,
          "metadata": {},
          "output_type": "execute_result"
        }
      ],
      "source": [
        "result_binary_tc = df.iloc[indices_tc]['titulo']\n",
        "result_binary_tc"
      ]
    },
    {
      "cell_type": "markdown",
      "metadata": {
        "id": "TpF7rFrLpMLN"
      },
      "source": [
        "### Tipo de representação: TF"
      ]
    },
    {
      "cell_type": "markdown",
      "metadata": {
        "id": "zYIVNbHJ4e52"
      },
      "source": [
        "#### Busca por título\n",
        "Primeiro usando só o **titulo** para buscar as notícias mais similares:"
      ]
    },
    {
      "cell_type": "code",
      "execution_count": null,
      "metadata": {
        "id": "wncNQmae-uEX"
      },
      "outputs": [],
      "source": [
        "matrix_tf, vect_tf = buildTFVectorizer(df[\"titulo\"])"
      ]
    },
    {
      "cell_type": "code",
      "execution_count": null,
      "metadata": {
        "id": "ZADLYnIj-0uK"
      },
      "outputs": [],
      "source": [
        "query = vectorizerKeyword(keyword, vect_tf)\n",
        "knn_tf  = getNearestNeighbors(k, matrix_tf, query)"
      ]
    },
    {
      "cell_type": "code",
      "execution_count": null,
      "metadata": {
        "colab": {
          "base_uri": "https://localhost:8080/"
        },
        "id": "xmsbVF2F-5sG",
        "outputId": "839be33a-9968-4b82-ecbb-8f6a50c7861d"
      },
      "outputs": [
        {
          "data": {
            "text/plain": [
              "475                                                         Clima marombado\n",
              "5598             Obama admite responsabilidade dos EUA em mudança climática\n",
              "5960    EUA têm consciência sobre mudança climática, diz Obama na Argentina\n",
              "Name: titulo, dtype: object"
            ]
          },
          "execution_count": 16,
          "metadata": {},
          "output_type": "execute_result"
        }
      ],
      "source": [
        "pd.options.display.max_colwidth = 150\n",
        "result_tf_titulo = df.iloc[knn_tf[1][0]]['titulo']\n",
        "result_tf_titulo"
      ]
    },
    {
      "cell_type": "markdown",
      "metadata": {
        "id": "IJEuo9nXLUYS"
      },
      "source": [
        "#### Busca por título e conteúdo\n",
        "Agora usando o **titulo** e **conteudo**:"
      ]
    },
    {
      "cell_type": "code",
      "execution_count": null,
      "metadata": {
        "id": "V0qcf_ijLYjw"
      },
      "outputs": [],
      "source": [
        "matrix_tf_tc, vect_tf_tc = buildTFVectorizer(df[\"titulo_conteudo\"])"
      ]
    },
    {
      "cell_type": "code",
      "execution_count": null,
      "metadata": {
        "id": "g5_nLPTfLgc9"
      },
      "outputs": [],
      "source": [
        "query = vectorizerKeyword(keyword, vect_tf_tc)\n",
        "knn_tf = getNearestNeighbors(k, matrix_tf_tc, query)"
      ]
    },
    {
      "cell_type": "code",
      "execution_count": null,
      "metadata": {
        "colab": {
          "base_uri": "https://localhost:8080/"
        },
        "id": "uVNnejrtLkGJ",
        "outputId": "71ab956e-042b-416c-fe25-13b3e235e865"
      },
      "outputs": [
        {
          "data": {
            "text/plain": [
              "1468    Temperatura sobe e São Paulo terá 'clima de verão' a partir do feriado\n",
              "6313                                          Ganhando o jogo das nossas vidas\n",
              "475                                                            Clima marombado\n",
              "Name: titulo, dtype: object"
            ]
          },
          "execution_count": 19,
          "metadata": {},
          "output_type": "execute_result"
        }
      ],
      "source": [
        "result_tf_tc = df.iloc[knn_tf[1][0]]['titulo']\n",
        "result_tf_tc"
      ]
    },
    {
      "cell_type": "markdown",
      "metadata": {
        "id": "AdPiC6V6pOnF"
      },
      "source": [
        "### Tipo de representação: TF-IDF"
      ]
    },
    {
      "cell_type": "markdown",
      "metadata": {
        "id": "tsGyYqIa4f_3"
      },
      "source": [
        "#### Busca por título\n",
        "Primeiro usando só o **titulo** para buscar as notícias mais similares:"
      ]
    },
    {
      "cell_type": "code",
      "execution_count": null,
      "metadata": {
        "id": "e3efswsZ_KmT"
      },
      "outputs": [],
      "source": [
        "matrix_tfidf, vect_tfidf = buildTFIDFVectorizer(df[\"titulo\"])"
      ]
    },
    {
      "cell_type": "code",
      "execution_count": null,
      "metadata": {
        "id": "Tf0CxuAh_Mqv"
      },
      "outputs": [],
      "source": [
        "query = vectorizerKeyword(keyword, vect_tfidf)\n",
        "knn_tfidf  = getNearestNeighbors(k, matrix_tfidf, query)"
      ]
    },
    {
      "cell_type": "code",
      "execution_count": null,
      "metadata": {
        "colab": {
          "base_uri": "https://localhost:8080/"
        },
        "id": "W23TgD6i_RFH",
        "outputId": "818ec335-9716-4b9a-9789-b6f75b1c85a4"
      },
      "outputs": [
        {
          "data": {
            "text/plain": [
              "5598                Obama admite responsabilidade dos EUA em mudança climática\n",
              "5960       EUA têm consciência sobre mudança climática, diz Obama na Argentina\n",
              "1468    Temperatura sobe e São Paulo terá 'clima de verão' a partir do feriado\n",
              "Name: titulo, dtype: object"
            ]
          },
          "execution_count": 22,
          "metadata": {},
          "output_type": "execute_result"
        }
      ],
      "source": [
        "result_tfidf_titulo = df.iloc[knn_tfidf[1][0]]['titulo']\n",
        "result_tfidf_titulo"
      ]
    },
    {
      "cell_type": "markdown",
      "metadata": {
        "id": "nIB-Ed02M8DD"
      },
      "source": [
        "#### Busca por título e conteúdo\n",
        "Agora usando o **titulo** e **conteudo**:"
      ]
    },
    {
      "cell_type": "code",
      "execution_count": null,
      "metadata": {
        "id": "mptxOuKsEw3P"
      },
      "outputs": [],
      "source": [
        "matrix_tfidf_tc, vect_tfidf_tc = buildTFIDFVectorizer(df['titulo_conteudo'])"
      ]
    },
    {
      "cell_type": "code",
      "execution_count": null,
      "metadata": {
        "id": "Q9SaS-GbE6kG"
      },
      "outputs": [],
      "source": [
        "query = vectorizerKeyword(keyword, vect_tfidf_tc)\n",
        "knn_tfidf  = getNearestNeighbors(k, matrix_tfidf_tc,query)"
      ]
    },
    {
      "cell_type": "code",
      "execution_count": null,
      "metadata": {
        "colab": {
          "base_uri": "https://localhost:8080/"
        },
        "id": "pa24HnaTE-aK",
        "outputId": "aa99aaff-9f98-485f-f6cc-0b6e56b1ccf3"
      },
      "outputs": [
        {
          "data": {
            "text/plain": [
              "6313                                          Ganhando o jogo das nossas vidas\n",
              "1468    Temperatura sobe e São Paulo terá 'clima de verão' a partir do feriado\n",
              "5516           Limbo jurídico aguarda milhões de futuros \"refugiados do clima\"\n",
              "Name: titulo, dtype: object"
            ]
          },
          "execution_count": 25,
          "metadata": {},
          "output_type": "execute_result"
        }
      ],
      "source": [
        "result_tfidf_tc = df.iloc[knn_tfidf[1][0]]['titulo']\n",
        "result_tfidf_tc"
      ]
    },
    {
      "cell_type": "markdown",
      "metadata": {
        "id": "smGC1ylaXmsR"
      },
      "source": [
        "Podemos ver que em primeiro ficou um titulo que\n",
        "não parece que tem muita semelhança com as palavras chaves, mas o contéudo da reportagem fala sobre as mudanças climáticas e aumento de temperatura no planeta."
      ]
    },
    {
      "cell_type": "markdown",
      "metadata": {
        "id": "QNMgkhfyX3fZ"
      },
      "source": [
        "## Buscando notícias semelhantes\n"
      ]
    },
    {
      "cell_type": "markdown",
      "metadata": {
        "id": "YokAE7aBYOuz"
      },
      "source": [
        "Selecionando uma notícia de indice 5598 com titulo 'Obama admite responsabilidade dos EUA em mudança climática':"
      ]
    },
    {
      "cell_type": "code",
      "execution_count": null,
      "metadata": {
        "id": "5W6Ph_HJYAGD"
      },
      "outputs": [],
      "source": [
        "idx = 5598"
      ]
    },
    {
      "cell_type": "markdown",
      "metadata": {
        "id": "_osCo5WmYstx"
      },
      "source": [
        "### Tipo de representação: Binário"
      ]
    },
    {
      "cell_type": "markdown",
      "metadata": {
        "id": "2KL8uqkVZXMB"
      },
      "source": [
        "Fazendo a busca pelo **título**. Vou usar a mesma matriz binária usada na seção anterior: `binary_matrix`"
      ]
    },
    {
      "cell_type": "code",
      "execution_count": null,
      "metadata": {
        "colab": {
          "base_uri": "https://localhost:8080/"
        },
        "id": "tsVyi94WZAC8",
        "outputId": "3011ff6f-1364-4604-e096-18b77ce03b4b"
      },
      "outputs": [
        {
          "data": {
            "text/plain": [
              "5960             EUA têm consciência sobre mudança climática, diz Obama na Argentina\n",
              "5968                           Mudança na demografia dos EUA enfraquece republicanos\n",
              "6130    Declínio dos EUA é 'ficção', diz Obama em último discurso do Estado da União\n",
              "Name: titulo, dtype: object"
            ]
          },
          "execution_count": 27,
          "metadata": {},
          "output_type": "execute_result"
        }
      ],
      "source": [
        "# Pegando o titulo de entrada para a busca\n",
        "query_doc = binary_matrix.getrow(idx)\n",
        "\n",
        "# Calcular a similaridade do cosseno entre a nova sentença e os dados existentes\n",
        "cosine_similarities = cosine_similarity(query_doc, binary_matrix).flatten()\n",
        "\n",
        "# Obter os índices das k frases mais semelhantes\n",
        "# precisa retirar o ultimo indice que seria da propria reportagem (por isso [-k-1:-1] )\n",
        "indices = cosine_similarities.argsort()[-k-1:-1][::-1]\n",
        "\n",
        "result_noticia_binary_titulo = df.iloc[indices]['titulo']\n",
        "result_noticia_binary_titulo"
      ]
    },
    {
      "cell_type": "markdown",
      "metadata": {
        "id": "qjWrSgxpavSQ"
      },
      "source": [
        "Agora utilizando o **título** e **conteúdo** para a busca vou utilizar a mesma matriz binária usada na seção anterior: `binary_matrix_tc`"
      ]
    },
    {
      "cell_type": "code",
      "execution_count": null,
      "metadata": {
        "colab": {
          "base_uri": "https://localhost:8080/"
        },
        "id": "mlnUvpoVbRfk",
        "outputId": "6ad63fe1-ea13-4307-bb4a-dd2926a69344"
      },
      "outputs": [
        {
          "data": {
            "text/plain": [
              "6081    Trump elogiou Duterte por guerra às drogas nas Filipinas, diz jornal\n",
              "5960     EUA têm consciência sobre mudança climática, diz Obama na Argentina\n",
              "5318                 Agenda de Dilma e Merkel para o clima carece de ambição\n",
              "Name: titulo, dtype: object"
            ]
          },
          "execution_count": 28,
          "metadata": {},
          "output_type": "execute_result"
        }
      ],
      "source": [
        "# Pegando o titulo de entrada para a busca\n",
        "query_doc = binary_matrix_tc.getrow(idx)\n",
        "\n",
        "# Calcular a similaridade do cosseno entre a nova sentença e os dados existentes\n",
        "cosine_similarities = cosine_similarity(query_doc, binary_matrix_tc).flatten()\n",
        "\n",
        "# Obter os índices das k frases mais semelhantes\n",
        "indices_tc = cosine_similarities.argsort()[-k-1:-1][::-1]\n",
        "\n",
        "result_noticia_binary_tc = df.iloc[indices_tc]['titulo']\n",
        "result_noticia_binary_tc"
      ]
    },
    {
      "cell_type": "markdown",
      "metadata": {
        "id": "QK0m29J4Yyoo"
      },
      "source": [
        "### Tipo de representação: TF"
      ]
    },
    {
      "cell_type": "markdown",
      "metadata": {
        "id": "FEtig4i0cFuF"
      },
      "source": [
        "Vou usar a mesma matriz TF usada na seção anterior: `matrix_tf`"
      ]
    },
    {
      "cell_type": "markdown",
      "metadata": {
        "id": "wsnk78FZpcR9"
      },
      "source": [
        "Obs.: estou tirando a própria notícia no resultado (por isso [1:])"
      ]
    },
    {
      "cell_type": "code",
      "execution_count": null,
      "metadata": {
        "colab": {
          "base_uri": "https://localhost:8080/"
        },
        "id": "2xRt-IPIeQhb",
        "outputId": "c8a1b63c-d18b-4ff5-ec31-44560406218e"
      },
      "outputs": [
        {
          "data": {
            "text/plain": [
              "5960       EUA têm consciência sobre mudança climática, diz Obama na Argentina\n",
              "5549    Obama vai criar primeiro monumento a direitos dos homossexuais dos EUA\n",
              "5968                     Mudança na demografia dos EUA enfraquece republicanos\n",
              "Name: titulo, dtype: object"
            ]
          },
          "execution_count": 29,
          "metadata": {},
          "output_type": "execute_result"
        }
      ],
      "source": [
        "# Pegando o titulo de entrada para a busca\n",
        "query_doc = matrix_tf.getrow(idx)\n",
        "\n",
        "knn_tf  = getNearestNeighbors(k+1, matrix_tf, query_doc)\n",
        "\n",
        "result_noticia_tf_titulo = df.iloc[knn_tf[1][0]]['titulo'][1:]\n",
        "result_noticia_tf_titulo"
      ]
    },
    {
      "cell_type": "markdown",
      "metadata": {
        "id": "aRm4qOi6iDYh"
      },
      "source": [
        "Agora utilizando o **título** e **conteúdo** para a busca vou utilizar a mesma matriz TF usada na seção anterior: `matrix_tf_tc`"
      ]
    },
    {
      "cell_type": "code",
      "execution_count": null,
      "metadata": {
        "colab": {
          "base_uri": "https://localhost:8080/"
        },
        "id": "qWFK21dxiaEI",
        "outputId": "a9be2e9a-4219-4b34-a00a-8f1d119cb3f4"
      },
      "outputs": [
        {
          "data": {
            "text/plain": [
              "6117    Discurso otimista de Obama difere de visão republicana sobre os EUA\n",
              "13       Vitória de Trump provoca silêncio e receio em conferência do clima\n",
              "5516        Limbo jurídico aguarda milhões de futuros \"refugiados do clima\"\n",
              "Name: titulo, dtype: object"
            ]
          },
          "execution_count": 30,
          "metadata": {},
          "output_type": "execute_result"
        }
      ],
      "source": [
        "# Pegando o titulo de entrada para a busca\n",
        "query_doc = matrix_tf_tc.getrow(idx)\n",
        "\n",
        "knn_tf  = getNearestNeighbors(k+1, matrix_tf_tc, query_doc)\n",
        "\n",
        "result_noticia_tf_tc = df.iloc[knn_tf[1][0]]['titulo'][1:]\n",
        "result_noticia_tf_tc"
      ]
    },
    {
      "cell_type": "markdown",
      "metadata": {
        "id": "8R6HJQX2Y0qp"
      },
      "source": [
        "### Tipo de representação: TF-IDF"
      ]
    },
    {
      "cell_type": "markdown",
      "metadata": {
        "id": "7ZuAkOsFlgag"
      },
      "source": [
        "Vou usar a mesma matriz TF-IDF usada na seção anterior: `matrix_tfidf`"
      ]
    },
    {
      "cell_type": "code",
      "execution_count": null,
      "metadata": {
        "colab": {
          "base_uri": "https://localhost:8080/"
        },
        "id": "pU4N6IEgl4HT",
        "outputId": "a8f08e93-ec45-40bf-d036-ed582189e307"
      },
      "outputs": [
        {
          "data": {
            "text/plain": [
              "5960    EUA têm consciência sobre mudança climática, diz Obama na Argentina\n",
              "6295                                   A responsabilidade fiscal do governo\n",
              "6327                                        Misericórdia e responsabilidade\n",
              "Name: titulo, dtype: object"
            ]
          },
          "execution_count": 31,
          "metadata": {},
          "output_type": "execute_result"
        }
      ],
      "source": [
        "# Pegando o titulo de entrada para a busca\n",
        "query_doc = matrix_tfidf.getrow(idx)\n",
        "\n",
        "knn_tfidf  = getNearestNeighbors(k+1, matrix_tfidf, query_doc)\n",
        "\n",
        "result_noticia_tfidf_titulo = df.iloc[knn_tfidf[1][0]]['titulo'][1:]\n",
        "result_noticia_tfidf_titulo"
      ]
    },
    {
      "cell_type": "markdown",
      "metadata": {
        "id": "d1wykZHOluob"
      },
      "source": [
        "Agora utilizando o **título** e **conteúdo** para a busca vou utilizar a mesma matriz TF-IDF usada na seção anterior: `matrix_tfidf_tc`"
      ]
    },
    {
      "cell_type": "code",
      "execution_count": null,
      "metadata": {
        "colab": {
          "base_uri": "https://localhost:8080/"
        },
        "id": "UTps-vZAmGck",
        "outputId": "02288db2-18a0-42d3-93b4-614bdb236b0c"
      },
      "outputs": [
        {
          "data": {
            "text/plain": [
              "13       Vitória de Trump provoca silêncio e receio em conferência do clima\n",
              "6117    Discurso otimista de Obama difere de visão republicana sobre os EUA\n",
              "5960    EUA têm consciência sobre mudança climática, diz Obama na Argentina\n",
              "Name: titulo, dtype: object"
            ]
          },
          "execution_count": 32,
          "metadata": {},
          "output_type": "execute_result"
        }
      ],
      "source": [
        "# Pegando o titulo de entrada para a busca\n",
        "query_doc = matrix_tfidf_tc.getrow(idx)\n",
        "\n",
        "knn_tfidf  = getNearestNeighbors(k+1, matrix_tfidf_tc, query_doc)\n",
        "\n",
        "result_noticia_tfidf_tc = df.iloc[knn_tfidf[1][0]]['titulo'][1:]\n",
        "result_noticia_tfidf_tc"
      ]
    },
    {
      "cell_type": "markdown",
      "metadata": {
        "id": "FQ12ui8vmYAi"
      },
      "source": [
        "# Análise dos resultados"
      ]
    },
    {
      "cell_type": "markdown",
      "metadata": {
        "id": "jAlr53TTqMR3"
      },
      "source": [
        "Palavras-chave usada: **clima ecossistema temperatura mudança climática**"
      ]
    },
    {
      "cell_type": "markdown",
      "metadata": {
        "id": "nkgojBh7mckk"
      },
      "source": [
        "Buscando com palavras-chaves: matriz binária de representação usando busca apenas no título"
      ]
    },
    {
      "cell_type": "code",
      "execution_count": null,
      "metadata": {
        "colab": {
          "base_uri": "https://localhost:8080/"
        },
        "id": "z_nBusigmbV7",
        "outputId": "f82731a1-393c-45ca-e7e6-d409341f5d41"
      },
      "outputs": [
        {
          "data": {
            "text/plain": [
              "475                                                         Clima marombado\n",
              "5598             Obama admite responsabilidade dos EUA em mudança climática\n",
              "5960    EUA têm consciência sobre mudança climática, diz Obama na Argentina\n",
              "Name: titulo, dtype: object"
            ]
          },
          "execution_count": 33,
          "metadata": {},
          "output_type": "execute_result"
        }
      ],
      "source": [
        "result_binary_titulo"
      ]
    },
    {
      "cell_type": "markdown",
      "metadata": {
        "id": "ZZkH2fw3nX2E"
      },
      "source": [
        "Buscando com palavras-chave: matriz binária de representação usando busca no título e conteúdo\n"
      ]
    },
    {
      "cell_type": "code",
      "execution_count": null,
      "metadata": {
        "colab": {
          "base_uri": "https://localhost:8080/"
        },
        "id": "9qATjFhfnZdE",
        "outputId": "3ac8f301-be7d-4edd-9b86-76e2ba750834"
      },
      "outputs": [
        {
          "data": {
            "text/plain": [
              "1468           Temperatura sobe e São Paulo terá 'clima de verão' a partir do feriado\n",
              "544     Países reunidos em NY querem barrar uso de HFC, um dos gases do efeito estufa\n",
              "5661         ONGs pressionam por mais proteção a países ameaçados pelo clima na COP21\n",
              "Name: titulo, dtype: object"
            ]
          },
          "execution_count": 34,
          "metadata": {},
          "output_type": "execute_result"
        }
      ],
      "source": [
        "result_binary_tc"
      ]
    },
    {
      "cell_type": "markdown",
      "metadata": {
        "id": "U4LjWPXRnZzB"
      },
      "source": [
        "Buscando com palavras-chave: matriz TF de representação usando busca apenas no título\n"
      ]
    },
    {
      "cell_type": "code",
      "execution_count": null,
      "metadata": {
        "colab": {
          "base_uri": "https://localhost:8080/"
        },
        "id": "5iAM2_nmnbeu",
        "outputId": "6b7b425b-3feb-45b5-b399-b719f90118d2"
      },
      "outputs": [
        {
          "data": {
            "text/plain": [
              "475                                                         Clima marombado\n",
              "5598             Obama admite responsabilidade dos EUA em mudança climática\n",
              "5960    EUA têm consciência sobre mudança climática, diz Obama na Argentina\n",
              "Name: titulo, dtype: object"
            ]
          },
          "execution_count": 35,
          "metadata": {},
          "output_type": "execute_result"
        }
      ],
      "source": [
        "result_tf_titulo"
      ]
    },
    {
      "cell_type": "markdown",
      "metadata": {
        "id": "Fu703gi-nbww"
      },
      "source": [
        "Buscando com palavras-chave: matriz TF de representação usando busca no título e conteúdo\n"
      ]
    },
    {
      "cell_type": "code",
      "execution_count": null,
      "metadata": {
        "colab": {
          "base_uri": "https://localhost:8080/"
        },
        "id": "GnSBymgvne1n",
        "outputId": "94c6a3e0-cc90-4fe3-d05b-a29775c64615"
      },
      "outputs": [
        {
          "data": {
            "text/plain": [
              "1468    Temperatura sobe e São Paulo terá 'clima de verão' a partir do feriado\n",
              "6313                                          Ganhando o jogo das nossas vidas\n",
              "475                                                            Clima marombado\n",
              "Name: titulo, dtype: object"
            ]
          },
          "execution_count": 36,
          "metadata": {},
          "output_type": "execute_result"
        }
      ],
      "source": [
        "result_tf_tc"
      ]
    },
    {
      "cell_type": "markdown",
      "metadata": {
        "id": "eSVcmjotnfLj"
      },
      "source": [
        "Buscando com palavras-chave: matriz TF-IDF de representação usando busca apenas no título\n"
      ]
    },
    {
      "cell_type": "code",
      "execution_count": null,
      "metadata": {
        "colab": {
          "base_uri": "https://localhost:8080/"
        },
        "id": "imOPaGQ8nhyi",
        "outputId": "c84009f5-9f83-4165-f989-76ed2ac19fa6"
      },
      "outputs": [
        {
          "data": {
            "text/plain": [
              "5598                Obama admite responsabilidade dos EUA em mudança climática\n",
              "5960       EUA têm consciência sobre mudança climática, diz Obama na Argentina\n",
              "1468    Temperatura sobe e São Paulo terá 'clima de verão' a partir do feriado\n",
              "Name: titulo, dtype: object"
            ]
          },
          "execution_count": 37,
          "metadata": {},
          "output_type": "execute_result"
        }
      ],
      "source": [
        "result_tfidf_titulo"
      ]
    },
    {
      "cell_type": "markdown",
      "metadata": {
        "id": "ibY-WrS1niIL"
      },
      "source": [
        "Buscando com palavras-chave: matriz TF-IDF de representação usando busca no título e conteúdo\n"
      ]
    },
    {
      "cell_type": "code",
      "execution_count": null,
      "metadata": {
        "colab": {
          "base_uri": "https://localhost:8080/"
        },
        "id": "2opm34L_nkDP",
        "outputId": "cb6d2c11-cd45-4a1d-86b1-d6ef03e3bce2"
      },
      "outputs": [
        {
          "data": {
            "text/plain": [
              "6313                                          Ganhando o jogo das nossas vidas\n",
              "1468    Temperatura sobe e São Paulo terá 'clima de verão' a partir do feriado\n",
              "5516           Limbo jurídico aguarda milhões de futuros \"refugiados do clima\"\n",
              "Name: titulo, dtype: object"
            ]
          },
          "execution_count": 38,
          "metadata": {},
          "output_type": "execute_result"
        }
      ],
      "source": [
        "result_tfidf_tc"
      ]
    },
    {
      "cell_type": "markdown",
      "metadata": {
        "id": "oWL1kc4egqi4"
      },
      "source": [
        "\n",
        "\n",
        "> Podemos perceber que alguns resultados são iguais, porem ranqueadas diferente, mas todos retornam resultados que contem as palavras-chave. Usando TF com a busca em título e conteúdo podemos ver um resultado que parece não ter nada em comum com as palavras-chave: \"Ganhando o jogo das nossas vidas\", mas o conteúdo da notícia tem bastante similaridade, então podemos concluir que usando a busca também no conteúdo conseguimos resultados melhores. Apesar dos resultados parecidos, o TF-IDF se saiu melhor, pois quantifica a raridade das palavras, olhando para o conteúdo dos 3 títulos que retornou eles tem muito mais similaridade com as palavras-chave (“clima ecossistema temperatura mudança climática”)\n",
        "\n"
      ]
    },
    {
      "cell_type": "markdown",
      "metadata": {
        "id": "WoMxYFsYoiIP"
      },
      "source": [
        "A outra notícia escolhida foi: **\"Obama admite responsabilidade dos EUA em mudança climática\"**"
      ]
    },
    {
      "cell_type": "markdown",
      "metadata": {
        "id": "GRsQnU2lnkVg"
      },
      "source": [
        "Buscando com outra notícia: matriz binária de representação usando busca apenas no título\n"
      ]
    },
    {
      "cell_type": "code",
      "execution_count": null,
      "metadata": {
        "colab": {
          "base_uri": "https://localhost:8080/"
        },
        "id": "SuTBJid8nl0k",
        "outputId": "f85e54a2-7892-4681-ebc9-210bd5f8aad2"
      },
      "outputs": [
        {
          "data": {
            "text/plain": [
              "5960             EUA têm consciência sobre mudança climática, diz Obama na Argentina\n",
              "5968                           Mudança na demografia dos EUA enfraquece republicanos\n",
              "6130    Declínio dos EUA é 'ficção', diz Obama em último discurso do Estado da União\n",
              "Name: titulo, dtype: object"
            ]
          },
          "execution_count": 39,
          "metadata": {},
          "output_type": "execute_result"
        }
      ],
      "source": [
        "result_noticia_binary_titulo"
      ]
    },
    {
      "cell_type": "markdown",
      "metadata": {
        "id": "9ePl2DS5nmI4"
      },
      "source": [
        "Buscando com outra notícia: matriz binária de representação usando busca no título e conteúdo\n"
      ]
    },
    {
      "cell_type": "code",
      "execution_count": null,
      "metadata": {
        "colab": {
          "base_uri": "https://localhost:8080/"
        },
        "id": "HpAEJz_ynn30",
        "outputId": "e04ce312-5392-4f5a-896d-0b7216b3f1b1"
      },
      "outputs": [
        {
          "data": {
            "text/plain": [
              "6081    Trump elogiou Duterte por guerra às drogas nas Filipinas, diz jornal\n",
              "5960     EUA têm consciência sobre mudança climática, diz Obama na Argentina\n",
              "5318                 Agenda de Dilma e Merkel para o clima carece de ambição\n",
              "Name: titulo, dtype: object"
            ]
          },
          "execution_count": 40,
          "metadata": {},
          "output_type": "execute_result"
        }
      ],
      "source": [
        "result_noticia_binary_tc"
      ]
    },
    {
      "cell_type": "markdown",
      "metadata": {
        "id": "DMsBVcbLnoQq"
      },
      "source": [
        "Buscando com outra notícia: matriz TF de representação usando busca apenas no título\n"
      ]
    },
    {
      "cell_type": "code",
      "execution_count": null,
      "metadata": {
        "colab": {
          "base_uri": "https://localhost:8080/"
        },
        "id": "EgYPmE4QnptC",
        "outputId": "4feecf3d-1bbc-4b6e-913a-102b1e9aff7b"
      },
      "outputs": [
        {
          "data": {
            "text/plain": [
              "5960       EUA têm consciência sobre mudança climática, diz Obama na Argentina\n",
              "5549    Obama vai criar primeiro monumento a direitos dos homossexuais dos EUA\n",
              "5968                     Mudança na demografia dos EUA enfraquece republicanos\n",
              "Name: titulo, dtype: object"
            ]
          },
          "execution_count": 41,
          "metadata": {},
          "output_type": "execute_result"
        }
      ],
      "source": [
        "result_noticia_tf_titulo"
      ]
    },
    {
      "cell_type": "markdown",
      "metadata": {
        "id": "1ymEWq_jntJB"
      },
      "source": [
        "Buscando com outra notícia: matriz TF de representação usando busca no título e conteúdo\n"
      ]
    },
    {
      "cell_type": "code",
      "execution_count": null,
      "metadata": {
        "colab": {
          "base_uri": "https://localhost:8080/"
        },
        "id": "NCLKD5Fynulf",
        "outputId": "cbb45f6c-5907-4768-e902-91505537d269"
      },
      "outputs": [
        {
          "data": {
            "text/plain": [
              "6117    Discurso otimista de Obama difere de visão republicana sobre os EUA\n",
              "13       Vitória de Trump provoca silêncio e receio em conferência do clima\n",
              "5516        Limbo jurídico aguarda milhões de futuros \"refugiados do clima\"\n",
              "Name: titulo, dtype: object"
            ]
          },
          "execution_count": 42,
          "metadata": {},
          "output_type": "execute_result"
        }
      ],
      "source": [
        "result_noticia_tf_tc"
      ]
    },
    {
      "cell_type": "markdown",
      "metadata": {
        "id": "7qcC4W33nwkM"
      },
      "source": [
        "Buscando com outra notícia: matriz TF-IDF de representação usando busca apenas no título\n"
      ]
    },
    {
      "cell_type": "code",
      "execution_count": null,
      "metadata": {
        "colab": {
          "base_uri": "https://localhost:8080/"
        },
        "id": "sSbKPPnmnw-w",
        "outputId": "3ffb871a-715f-4a0d-8711-75efd7a7f775"
      },
      "outputs": [
        {
          "data": {
            "text/plain": [
              "5960    EUA têm consciência sobre mudança climática, diz Obama na Argentina\n",
              "6295                                   A responsabilidade fiscal do governo\n",
              "6327                                        Misericórdia e responsabilidade\n",
              "Name: titulo, dtype: object"
            ]
          },
          "execution_count": 43,
          "metadata": {},
          "output_type": "execute_result"
        }
      ],
      "source": [
        "result_noticia_tfidf_titulo"
      ]
    },
    {
      "cell_type": "markdown",
      "metadata": {
        "id": "kbsHZ0V4nxN6"
      },
      "source": [
        "Buscando com outra notícia: matriz TF-IDF de representação usando busca no título e conteúdo\n"
      ]
    },
    {
      "cell_type": "code",
      "execution_count": null,
      "metadata": {
        "colab": {
          "base_uri": "https://localhost:8080/"
        },
        "id": "AUrsZVjmny8z",
        "outputId": "c87d283e-c218-4573-a9a5-6097b88ba889"
      },
      "outputs": [
        {
          "data": {
            "text/plain": [
              "13       Vitória de Trump provoca silêncio e receio em conferência do clima\n",
              "6117    Discurso otimista de Obama difere de visão republicana sobre os EUA\n",
              "5960    EUA têm consciência sobre mudança climática, diz Obama na Argentina\n",
              "Name: titulo, dtype: object"
            ]
          },
          "execution_count": 44,
          "metadata": {},
          "output_type": "execute_result"
        }
      ],
      "source": [
        "result_noticia_tfidf_tc"
      ]
    },
    {
      "cell_type": "markdown",
      "metadata": {
        "id": "jM4fX_MV6Z15"
      },
      "source": [
        "\n",
        "\n",
        "> Usando outra notícia como busca, os resultados foram mais variados do que usando palavras-chave. O melhor resultado foi usando TF-IDF com busca com título e conteúdo que as 3 notícias que resultou tinham mais similaridade do que as outras, isso foi possível por que o TF-IDF leva em conta a raridade das palavras em todos os documentos e a importância das palavras no documento que foi usado como busca.\n",
        "\n"
      ]
    }
  ],
  "metadata": {
    "colab": {
      "provenance": []
    },
    "kernelspec": {
      "display_name": "Python 3",
      "name": "python3"
    },
    "language_info": {
      "name": "python"
    }
  },
  "nbformat": 4,
  "nbformat_minor": 0
}
